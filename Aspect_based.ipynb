{
  "nbformat": 4,
  "nbformat_minor": 0,
  "metadata": {
    "colab": {
      "name": "Aspect_based.ipynb",
      "provenance": [],
      "collapsed_sections": [],
      "authorship_tag": "ABX9TyPHs7FJUjyWsvuX4cBOpIkP",
      "include_colab_link": true
    },
    "kernelspec": {
      "name": "python3",
      "display_name": "Python 3"
    },
    "language_info": {
      "name": "python"
    }
  },
  "cells": [
    {
      "cell_type": "markdown",
      "metadata": {
        "id": "view-in-github",
        "colab_type": "text"
      },
      "source": [
        "<a href=\"https://colab.research.google.com/github/Miru-s/Sentiment-Analysis-/blob/main/Aspect_based.ipynb\" target=\"_parent\"><img src=\"https://colab.research.google.com/assets/colab-badge.svg\" alt=\"Open In Colab\"/></a>"
      ]
    },
    {
      "cell_type": "code",
      "metadata": {
        "colab": {
          "base_uri": "https://localhost:8080/"
        },
        "id": "2tRNZNKgD2lw",
        "outputId": "4f0f5a20-93bb-45a8-b28a-570b8af620e6"
      },
      "source": [
        "from google.colab import drive\n",
        "drive.mount('/content/drive')"
      ],
      "execution_count": null,
      "outputs": [
        {
          "output_type": "stream",
          "text": [
            "Mounted at /content/drive\n"
          ],
          "name": "stdout"
        }
      ]
    },
    {
      "cell_type": "code",
      "metadata": {
        "colab": {
          "base_uri": "https://localhost:8080/",
          "height": 306
        },
        "id": "5yK3jh48RZyq",
        "outputId": "039b45c4-832c-4f83-c188-e405666b418a"
      },
      "source": [
        "import pandas as pd \n",
        "df = pd.read_csv('Amazon_Unlocked_Mobile.csv')\n",
        "df.head()"
      ],
      "execution_count": null,
      "outputs": [
        {
          "output_type": "execute_result",
          "data": {
            "text/html": [
              "<div>\n",
              "<style scoped>\n",
              "    .dataframe tbody tr th:only-of-type {\n",
              "        vertical-align: middle;\n",
              "    }\n",
              "\n",
              "    .dataframe tbody tr th {\n",
              "        vertical-align: top;\n",
              "    }\n",
              "\n",
              "    .dataframe thead th {\n",
              "        text-align: right;\n",
              "    }\n",
              "</style>\n",
              "<table border=\"1\" class=\"dataframe\">\n",
              "  <thead>\n",
              "    <tr style=\"text-align: right;\">\n",
              "      <th></th>\n",
              "      <th>Product Name</th>\n",
              "      <th>Brand Name</th>\n",
              "      <th>Price</th>\n",
              "      <th>Rating</th>\n",
              "      <th>Reviews</th>\n",
              "      <th>Review Votes</th>\n",
              "    </tr>\n",
              "  </thead>\n",
              "  <tbody>\n",
              "    <tr>\n",
              "      <th>0</th>\n",
              "      <td>\"CLEAR CLEAN ESN\" Sprint EPIC 4G Galaxy SPH-D7...</td>\n",
              "      <td>Samsung</td>\n",
              "      <td>199.99</td>\n",
              "      <td>5</td>\n",
              "      <td>I feel so LUCKY to have found this used (phone...</td>\n",
              "      <td>1.0</td>\n",
              "    </tr>\n",
              "    <tr>\n",
              "      <th>1</th>\n",
              "      <td>\"CLEAR CLEAN ESN\" Sprint EPIC 4G Galaxy SPH-D7...</td>\n",
              "      <td>Samsung</td>\n",
              "      <td>199.99</td>\n",
              "      <td>4</td>\n",
              "      <td>nice phone, nice up grade from my pantach revu...</td>\n",
              "      <td>0.0</td>\n",
              "    </tr>\n",
              "    <tr>\n",
              "      <th>2</th>\n",
              "      <td>\"CLEAR CLEAN ESN\" Sprint EPIC 4G Galaxy SPH-D7...</td>\n",
              "      <td>Samsung</td>\n",
              "      <td>199.99</td>\n",
              "      <td>5</td>\n",
              "      <td>Very pleased</td>\n",
              "      <td>0.0</td>\n",
              "    </tr>\n",
              "    <tr>\n",
              "      <th>3</th>\n",
              "      <td>\"CLEAR CLEAN ESN\" Sprint EPIC 4G Galaxy SPH-D7...</td>\n",
              "      <td>Samsung</td>\n",
              "      <td>199.99</td>\n",
              "      <td>4</td>\n",
              "      <td>It works good but it goes slow sometimes but i...</td>\n",
              "      <td>0.0</td>\n",
              "    </tr>\n",
              "    <tr>\n",
              "      <th>4</th>\n",
              "      <td>\"CLEAR CLEAN ESN\" Sprint EPIC 4G Galaxy SPH-D7...</td>\n",
              "      <td>Samsung</td>\n",
              "      <td>199.99</td>\n",
              "      <td>4</td>\n",
              "      <td>Great phone to replace my lost phone. The only...</td>\n",
              "      <td>0.0</td>\n",
              "    </tr>\n",
              "  </tbody>\n",
              "</table>\n",
              "</div>"
            ],
            "text/plain": [
              "                                        Product Name  ... Review Votes\n",
              "0  \"CLEAR CLEAN ESN\" Sprint EPIC 4G Galaxy SPH-D7...  ...          1.0\n",
              "1  \"CLEAR CLEAN ESN\" Sprint EPIC 4G Galaxy SPH-D7...  ...          0.0\n",
              "2  \"CLEAR CLEAN ESN\" Sprint EPIC 4G Galaxy SPH-D7...  ...          0.0\n",
              "3  \"CLEAR CLEAN ESN\" Sprint EPIC 4G Galaxy SPH-D7...  ...          0.0\n",
              "4  \"CLEAR CLEAN ESN\" Sprint EPIC 4G Galaxy SPH-D7...  ...          0.0\n",
              "\n",
              "[5 rows x 6 columns]"
            ]
          },
          "metadata": {
            "tags": []
          },
          "execution_count": 4
        }
      ]
    },
    {
      "cell_type": "code",
      "metadata": {
        "colab": {
          "base_uri": "https://localhost:8080/",
          "height": 316
        },
        "id": "L6ZlT6kbXIvn",
        "outputId": "e011f173-35b3-4831-8d83-df6e006001b5"
      },
      "source": [
        "%matplotlib inline\n",
        "df.hist(column='Rating', bins=50)"
      ],
      "execution_count": null,
      "outputs": [
        {
          "output_type": "execute_result",
          "data": {
            "text/plain": [
              "array([[<matplotlib.axes._subplots.AxesSubplot object at 0x7f2afbf64710>]],\n",
              "      dtype=object)"
            ]
          },
          "metadata": {
            "tags": []
          },
          "execution_count": 6
        },
        {
          "output_type": "display_data",
          "data": {
            "image/png": "[encoded data removed]",
            "text/plain": [
              "<Figure size 432x288 with 1 Axes>"
            ]
          },
          "metadata": {
            "tags": [],
            "needs_background": "light"
          }
        }
      ]
    },
    {
      "cell_type": "code",
      "metadata": {
        "id": "VadHgv-bXZPt"
      },
      "source": [
        "df_good_bad = df[(df.Rating==5) | (df.Rating==1)]\n",
        "X = df_good_bad.Reviews\n",
        "y = df_good_bad.Rating"
      ],
      "execution_count": null,
      "outputs": []
    },
    {
      "cell_type": "code",
      "metadata": {
        "id": "P7Z1crGKXxqK"
      },
      "source": [
        "from sklearn.model_selection import train_test_split\n",
        "X_train, X_test, y_train, y_test = train_test_split(X, y, random_state=2)"
      ],
      "execution_count": null,
      "outputs": []
    },
    {
      "cell_type": "code",
      "metadata": {
        "id": "S1mQlWbkX3Fy"
      },
      "source": [
        "from sklearn.feature_extraction.text import CountVectorizer\n",
        "vect = CountVectorizer()"
      ],
      "execution_count": null,
      "outputs": []
    },
    {
      "cell_type": "code",
      "metadata": {
        "id": "_FH5WFlPboNw"
      },
      "source": [
        "X_train_dtm = vect.fit_transform(X_train.astype(\"U\"))\n",
        "X_test_dtm = vect.transform(X_test.astype(\"U\"))"
      ],
      "execution_count": null,
      "outputs": []
    },
    {
      "cell_type": "code",
      "metadata": {
        "id": "YpV2yvvaefV5"
      },
      "source": [
        "from sklearn.naive_bayes import MultinomialNB\n",
        "nb = MultinomialNB()"
      ],
      "execution_count": null,
      "outputs": []
    },
    {
      "cell_type": "code",
      "metadata": {
        "colab": {
          "base_uri": "https://localhost:8080/"
        },
        "id": "cRS2CwereifH",
        "outputId": "1986cb3a-0d31-41b2-c519-26fb7d560d79"
      },
      "source": [
        "nb.fit(X_train_dtm, y_train)"
      ],
      "execution_count": null,
      "outputs": [
        {
          "output_type": "execute_result",
          "data": {
            "text/plain": [
              "MultinomialNB(alpha=1.0, class_prior=None, fit_prior=True)"
            ]
          },
          "metadata": {
            "tags": []
          },
          "execution_count": 17
        }
      ]
    },
    {
      "cell_type": "code",
      "metadata": {
        "id": "6R13ywONeqYu"
      },
      "source": [
        "y_pred_class = nb.predict(X_test_dtm)"
      ],
      "execution_count": null,
      "outputs": []
    },
    {
      "cell_type": "code",
      "metadata": {
        "colab": {
          "base_uri": "https://localhost:8080/"
        },
        "id": "QESXP3sSer6j",
        "outputId": "e8be7c69-d739-43d0-c748-bcb94ae441fc"
      },
      "source": [
        "from sklearn import metrics\n",
        "metrics.accuracy_score(y_test, y_pred_class)"
      ],
      "execution_count": null,
      "outputs": [
        {
          "output_type": "execute_result",
          "data": {
            "text/plain": [
              "0.9518306775331469"
            ]
          },
          "metadata": {
            "tags": []
          },
          "execution_count": 19
        }
      ]
    },
    {
      "cell_type": "code",
      "metadata": {
        "colab": {
          "base_uri": "https://localhost:8080/"
        },
        "id": "b3xXxGw6esEK",
        "outputId": "130fb4ee-0639-44e3-e8c0-54ae4f5357db"
      },
      "source": [
        "metrics.confusion_matrix(y_test, y_pred_class)"
      ],
      "execution_count": null,
      "outputs": [
        {
          "output_type": "execute_result",
          "data": {
            "text/plain": [
              "array([[15971,  2098],\n",
              "       [ 1466, 54454]])"
            ]
          },
          "metadata": {
            "tags": []
          },
          "execution_count": 20
        }
      ]
    },
    {
      "cell_type": "code",
      "metadata": {
        "colab": {
          "base_uri": "https://localhost:8080/"
        },
        "id": "TS5y0S30ezji",
        "outputId": "747d8383-5955-4ce4-9b14-bb0749f64dc1"
      },
      "source": [
        "X_test[y_test < y_pred_class].head(10)"
      ],
      "execution_count": null,
      "outputs": [
        {
          "output_type": "execute_result",
          "data": {
            "text/plain": [
              "2253      So I am usually not rushing to write reviews, ...\n",
              "385199    At first was OK, a very basic phone and didn't...\n",
              "346815    Phone has a locked bootloader so phone is full...\n",
              "183920                                   CAN'T EAR ANYTHING\n",
              "136321                                              No good\n",
              "409607    I hate the picture quality! I assumed with it ...\n",
              "320625    Omg it's NOT a NEW PHONE!! I has found lots of...\n",
              "126251    Very nice phone, specially for the initial $79...\n",
              "10107     Not happy it said for straight talk and it was...\n",
              "173708                       an experience i want to forget\n",
              "Name: Reviews, dtype: object"
            ]
          },
          "metadata": {
            "tags": []
          },
          "execution_count": 21
        }
      ]
    },
    {
      "cell_type": "code",
      "metadata": {
        "colab": {
          "base_uri": "https://localhost:8080/"
        },
        "id": "8XF_UQroesGr",
        "outputId": "0ca2fa7f-a801-4e9b-e60c-f4166489ac45"
      },
      "source": [
        "X_test[y_test > y_pred_class].head(5) #Good reviews classified as Bad reviews (errors)"
      ],
      "execution_count": null,
      "outputs": [
        {
          "output_type": "execute_result",
          "data": {
            "text/plain": [
              "4438      Its an iPad. That should sum up the product it...\n",
              "107947    Assume phone. No problem with it. Had charging...\n",
              "215584    LG g2 awesome phone! Broke my iPhone and got t...\n",
              "273709    Most of the apps are ok. However I stopped usi...\n",
              "359125    Excellent product!!I am pleased with product, ...\n",
              "Name: Reviews, dtype: object"
            ]
          },
          "metadata": {
            "tags": []
          },
          "execution_count": 25
        }
      ]
    },
    {
      "cell_type": "code",
      "metadata": {
        "id": "GPbl5MNgesJ7"
      },
      "source": [
        "#Finding the word that has highest frequency in good and bad reviews\n",
        "X_train_word = vect.get_feature_names()\n",
        "bad_review_word_count = nb.feature_count_[0, :]\n",
        "good_review_word_count = nb.feature_count_[1, :]"
      ],
      "execution_count": null,
      "outputs": []
    },
    {
      "cell_type": "code",
      "metadata": {
        "id": "mofqcCj0f4yO"
      },
      "source": [
        "#Finding the word that has highest frequency in good and bad reviews\n",
        "X_train_word = vect.get_feature_names()\n",
        "bad_review_word_count = nb.feature_count_[0, :]\n",
        "good_review_word_count = nb.feature_count_[1, :]\n",
        "words = pd.DataFrame({'word':X_train_word, 'bad_review':bad_review_word_count, 'good_review':good_review_word_count}).set_index('word')"
      ],
      "execution_count": null,
      "outputs": []
    },
    {
      "cell_type": "code",
      "metadata": {
        "id": "PQQsM4r5f40p"
      },
      "source": [
        "#Calculate frequency of word counts\n",
        "words['bad_review'] = (words.bad_review + 1)/ nb.class_count_[0]\n",
        "words['good_review'] = (words.good_review + 1)/ nb.class_count_[1]\n",
        "words['good_bad_ratio'] = words.good_review / words.bad_review"
      ],
      "execution_count": null,
      "outputs": []
    },
    {
      "cell_type": "code",
      "metadata": {
        "colab": {
          "base_uri": "https://localhost:8080/",
          "height": 386
        },
        "id": "BTfplHfDf42t",
        "outputId": "2e7f822c-f7ac-403c-be77-4e51f0c53d8c"
      },
      "source": [
        "words.sort_values('good_bad_ratio', ascending=False).head(10) #positive words"
      ],
      "execution_count": null,
      "outputs": [
        {
          "output_type": "execute_result",
          "data": {
            "text/html": [
              "<div>\n",
              "<style scoped>\n",
              "    .dataframe tbody tr th:only-of-type {\n",
              "        vertical-align: middle;\n",
              "    }\n",
              "\n",
              "    .dataframe tbody tr th {\n",
              "        vertical-align: top;\n",
              "    }\n",
              "\n",
              "    .dataframe thead th {\n",
              "        text-align: right;\n",
              "    }\n",
              "</style>\n",
              "<table border=\"1\" class=\"dataframe\">\n",
              "  <thead>\n",
              "    <tr style=\"text-align: right;\">\n",
              "      <th></th>\n",
              "      <th>bad_review</th>\n",
              "      <th>good_review</th>\n",
              "      <th>good_bad_ratio</th>\n",
              "    </tr>\n",
              "    <tr>\n",
              "      <th>word</th>\n",
              "      <th></th>\n",
              "      <th></th>\n",
              "      <th></th>\n",
              "    </tr>\n",
              "  </thead>\n",
              "  <tbody>\n",
              "    <tr>\n",
              "      <th>excelente</th>\n",
              "      <td>0.000184</td>\n",
              "      <td>0.035441</td>\n",
              "      <td>192.379750</td>\n",
              "    </tr>\n",
              "    <tr>\n",
              "      <th>excelent</th>\n",
              "      <td>0.000166</td>\n",
              "      <td>0.018040</td>\n",
              "      <td>108.801904</td>\n",
              "    </tr>\n",
              "    <tr>\n",
              "      <th>exelent</th>\n",
              "      <td>0.000018</td>\n",
              "      <td>0.001485</td>\n",
              "      <td>80.603328</td>\n",
              "    </tr>\n",
              "    <tr>\n",
              "      <th>exelente</th>\n",
              "      <td>0.000055</td>\n",
              "      <td>0.004139</td>\n",
              "      <td>74.884484</td>\n",
              "    </tr>\n",
              "    <tr>\n",
              "      <th>phenomenal</th>\n",
              "      <td>0.000018</td>\n",
              "      <td>0.001252</td>\n",
              "      <td>67.978710</td>\n",
              "    </tr>\n",
              "    <tr>\n",
              "      <th>loves</th>\n",
              "      <td>0.000368</td>\n",
              "      <td>0.023759</td>\n",
              "      <td>64.482662</td>\n",
              "    </tr>\n",
              "    <tr>\n",
              "      <th>exellent</th>\n",
              "      <td>0.000018</td>\n",
              "      <td>0.000966</td>\n",
              "      <td>52.440719</td>\n",
              "    </tr>\n",
              "    <tr>\n",
              "      <th>exceeds</th>\n",
              "      <td>0.000018</td>\n",
              "      <td>0.000942</td>\n",
              "      <td>51.145887</td>\n",
              "    </tr>\n",
              "    <tr>\n",
              "      <th>sexy</th>\n",
              "      <td>0.000018</td>\n",
              "      <td>0.000739</td>\n",
              "      <td>40.139810</td>\n",
              "    </tr>\n",
              "    <tr>\n",
              "      <th>meets</th>\n",
              "      <td>0.000074</td>\n",
              "      <td>0.002886</td>\n",
              "      <td>39.168685</td>\n",
              "    </tr>\n",
              "  </tbody>\n",
              "</table>\n",
              "</div>"
            ],
            "text/plain": [
              "            bad_review  good_review  good_bad_ratio\n",
              "word                                               \n",
              "excelente     0.000184     0.035441      192.379750\n",
              "excelent      0.000166     0.018040      108.801904\n",
              "exelent       0.000018     0.001485       80.603328\n",
              "exelente      0.000055     0.004139       74.884484\n",
              "phenomenal    0.000018     0.001252       67.978710\n",
              "loves         0.000368     0.023759       64.482662\n",
              "exellent      0.000018     0.000966       52.440719\n",
              "exceeds       0.000018     0.000942       51.145887\n",
              "sexy          0.000018     0.000739       40.139810\n",
              "meets         0.000074     0.002886       39.168685"
            ]
          },
          "metadata": {
            "tags": []
          },
          "execution_count": 30
        }
      ]
    },
    {
      "cell_type": "code",
      "metadata": {
        "colab": {
          "base_uri": "https://localhost:8080/",
          "height": 386
        },
        "id": "2Q-L46UDf46P",
        "outputId": "bf76f503-1da2-45ab-be37-b24d6b496be7"
      },
      "source": [
        "words.sort_values('good_bad_ratio', ascending=True).head(10)  #negative words"
      ],
      "execution_count": null,
      "outputs": [
        {
          "output_type": "execute_result",
          "data": {
            "text/html": [
              "<div>\n",
              "<style scoped>\n",
              "    .dataframe tbody tr th:only-of-type {\n",
              "        vertical-align: middle;\n",
              "    }\n",
              "\n",
              "    .dataframe tbody tr th {\n",
              "        vertical-align: top;\n",
              "    }\n",
              "\n",
              "    .dataframe thead th {\n",
              "        text-align: right;\n",
              "    }\n",
              "</style>\n",
              "<table border=\"1\" class=\"dataframe\">\n",
              "  <thead>\n",
              "    <tr style=\"text-align: right;\">\n",
              "      <th></th>\n",
              "      <th>bad_review</th>\n",
              "      <th>good_review</th>\n",
              "      <th>good_bad_ratio</th>\n",
              "    </tr>\n",
              "    <tr>\n",
              "      <th>word</th>\n",
              "      <th></th>\n",
              "      <th></th>\n",
              "      <th></th>\n",
              "    </tr>\n",
              "  </thead>\n",
              "  <tbody>\n",
              "    <tr>\n",
              "      <th>mal</th>\n",
              "      <td>0.001382</td>\n",
              "      <td>0.000006</td>\n",
              "      <td>0.004316</td>\n",
              "    </tr>\n",
              "    <tr>\n",
              "      <th>scammers</th>\n",
              "      <td>0.000774</td>\n",
              "      <td>0.000006</td>\n",
              "      <td>0.007707</td>\n",
              "    </tr>\n",
              "    <tr>\n",
              "      <th>cheated</th>\n",
              "      <td>0.004403</td>\n",
              "      <td>0.000036</td>\n",
              "      <td>0.008127</td>\n",
              "    </tr>\n",
              "    <tr>\n",
              "      <th>waisted</th>\n",
              "      <td>0.000718</td>\n",
              "      <td>0.000006</td>\n",
              "      <td>0.008300</td>\n",
              "    </tr>\n",
              "    <tr>\n",
              "      <th>recourse</th>\n",
              "      <td>0.000663</td>\n",
              "      <td>0.000006</td>\n",
              "      <td>0.008992</td>\n",
              "    </tr>\n",
              "    <tr>\n",
              "      <th>carga</th>\n",
              "      <td>0.000608</td>\n",
              "      <td>0.000006</td>\n",
              "      <td>0.009809</td>\n",
              "    </tr>\n",
              "    <tr>\n",
              "      <th>digitelllllllll</th>\n",
              "      <td>0.000571</td>\n",
              "      <td>0.000006</td>\n",
              "      <td>0.010442</td>\n",
              "    </tr>\n",
              "    <tr>\n",
              "      <th>estafa</th>\n",
              "      <td>0.000571</td>\n",
              "      <td>0.000006</td>\n",
              "      <td>0.010442</td>\n",
              "    </tr>\n",
              "    <tr>\n",
              "      <th>defectuoso</th>\n",
              "      <td>0.001069</td>\n",
              "      <td>0.000012</td>\n",
              "      <td>0.011162</td>\n",
              "    </tr>\n",
              "    <tr>\n",
              "      <th>blackphone2</th>\n",
              "      <td>0.000516</td>\n",
              "      <td>0.000006</td>\n",
              "      <td>0.011561</td>\n",
              "    </tr>\n",
              "  </tbody>\n",
              "</table>\n",
              "</div>"
            ],
            "text/plain": [
              "                 bad_review  good_review  good_bad_ratio\n",
              "word                                                    \n",
              "mal                0.001382     0.000006        0.004316\n",
              "scammers           0.000774     0.000006        0.007707\n",
              "cheated            0.004403     0.000036        0.008127\n",
              "waisted            0.000718     0.000006        0.008300\n",
              "recourse           0.000663     0.000006        0.008992\n",
              "carga              0.000608     0.000006        0.009809\n",
              "digitelllllllll    0.000571     0.000006        0.010442\n",
              "estafa             0.000571     0.000006        0.010442\n",
              "defectuoso         0.001069     0.000012        0.011162\n",
              "blackphone2        0.000516     0.000006        0.011561"
            ]
          },
          "metadata": {
            "tags": []
          },
          "execution_count": 31
        }
      ]
    },
    {
      "cell_type": "code",
      "metadata": {
        "id": "tHuoyiH3gX-0"
      },
      "source": [
        "X = df.Reviews\n",
        "y = df.Rating"
      ],
      "execution_count": null,
      "outputs": []
    },
    {
      "cell_type": "code",
      "metadata": {
        "id": "05W1WOHRghe4"
      },
      "source": [
        "X_train, X_test, y_train, y_test = train_test_split(X, y, random_state=2)"
      ],
      "execution_count": null,
      "outputs": []
    },
    {
      "cell_type": "code",
      "metadata": {
        "id": "gZMbyJy4ghhh"
      },
      "source": [
        "X_train_dtm = vect.fit_transform(X_train.astype(\"U\"))\n",
        "X_test_dtm = vect.transform(X_test.astype(\"U\"))"
      ],
      "execution_count": null,
      "outputs": []
    },
    {
      "cell_type": "code",
      "metadata": {
        "colab": {
          "base_uri": "https://localhost:8080/"
        },
        "id": "VNNGlJEvghkE",
        "outputId": "182ed0a1-81f7-4d77-c6d4-fe6515e021db"
      },
      "source": [
        "nb.fit(X_train_dtm, y_train)"
      ],
      "execution_count": null,
      "outputs": [
        {
          "output_type": "execute_result",
          "data": {
            "text/plain": [
              "MultinomialNB(alpha=1.0, class_prior=None, fit_prior=True)"
            ]
          },
          "metadata": {
            "tags": []
          },
          "execution_count": 37
        }
      ]
    },
    {
      "cell_type": "code",
      "metadata": {
        "id": "gz-tim_yghnX"
      },
      "source": [
        "y_pred_class = nb.predict(X_test_dtm)"
      ],
      "execution_count": null,
      "outputs": []
    },
    {
      "cell_type": "code",
      "metadata": {
        "colab": {
          "base_uri": "https://localhost:8080/"
        },
        "id": "VQaokhL2gYJu",
        "outputId": "4ecd6e3c-f1a7-43cc-a88b-6e9315b770db"
      },
      "source": [
        "metrics.accuracy_score(y_test, y_pred_class)"
      ],
      "execution_count": null,
      "outputs": [
        {
          "output_type": "execute_result",
          "data": {
            "text/plain": [
              "0.7187028803402281"
            ]
          },
          "metadata": {
            "tags": []
          },
          "execution_count": 39
        }
      ]
    },
    {
      "cell_type": "code",
      "metadata": {
        "colab": {
          "base_uri": "https://localhost:8080/"
        },
        "id": "SvY8wCr1gYYx",
        "outputId": "36284337-e701-427d-ee0c-c955e0f3ce38"
      },
      "source": [
        "metrics.confusion_matrix(y_test, y_pred_class)"
      ],
      "execution_count": null,
      "outputs": [
        {
          "output_type": "execute_result",
          "data": {
            "text/plain": [
              "array([[14926,   426,   592,   447,  1658],\n",
              "       [ 2927,  1135,   538,   569,  1013],\n",
              "       [ 1941,   221,  2010,  1246,  2552],\n",
              "       [ 1036,   149,   613,  4289,  9305],\n",
              "       [ 1187,   115,   324,  2244, 51997]])"
            ]
          },
          "metadata": {
            "tags": []
          },
          "execution_count": 40
        }
      ]
    },
    {
      "cell_type": "code",
      "metadata": {
        "colab": {
          "base_uri": "https://localhost:8080/"
        },
        "id": "mrExv_LYhB7r",
        "outputId": "7161e827-169e-4ad9-b34c-0a5cff0e2c64"
      },
      "source": [
        "#Accuracy based on precision, recall and f1-score\n",
        "print(metrics.classification_report(y_test, y_pred_class))"
      ],
      "execution_count": null,
      "outputs": [
        {
          "output_type": "stream",
          "text": [
            "              precision    recall  f1-score   support\n",
            "\n",
            "           1       0.68      0.83      0.75     18049\n",
            "           2       0.55      0.18      0.28      6182\n",
            "           3       0.49      0.25      0.33      7970\n",
            "           4       0.49      0.28      0.35     15392\n",
            "           5       0.78      0.93      0.85     55867\n",
            "\n",
            "    accuracy                           0.72    103460\n",
            "   macro avg       0.60      0.49      0.51    103460\n",
            "weighted avg       0.68      0.72      0.68    103460\n",
            "\n"
          ],
          "name": "stdout"
        }
      ]
    },
    {
      "cell_type": "code",
      "metadata": {
        "id": "P53H0EnzhCA4"
      },
      "source": [
        ""
      ],
      "execution_count": null,
      "outputs": []
    },
    {
      "cell_type": "code",
      "metadata": {
        "id": "5rxljx8mhCEQ"
      },
      "source": [
        ""
      ],
      "execution_count": null,
      "outputs": []
    }
  ]
}