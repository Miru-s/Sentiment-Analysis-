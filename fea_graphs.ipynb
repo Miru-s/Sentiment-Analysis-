{
  "nbformat": 4,
  "nbformat_minor": 0,
  "metadata": {
    "colab": {
      "name": "fea_graphs.ipynb",
      "provenance": [],
      "collapsed_sections": [],
      "authorship_tag": "ABX9TyPMQqLdPHEn+c4m4QUjwRpo",
      "include_colab_link": true
    },
    "kernelspec": {
      "name": "python3",
      "display_name": "Python 3"
    },
    "language_info": {
      "name": "python"
    }
  },
  "cells": [
    {
      "cell_type": "markdown",
      "metadata": {
        "id": "view-in-github",
        "colab_type": "text"
      },
      "source": [
        "<a href=\"https://colab.research.google.com/github/Miru-s/Sentiment-Analysis-/blob/main/fea_graphs.ipynb\" target=\"_parent\"><img src=\"https://colab.research.google.com/assets/colab-badge.svg\" alt=\"Open In Colab\"/></a>"
      ]
    },
    {
      "cell_type": "code",
      "metadata": {
        "id": "MwyANKhThbe8"
      },
      "source": [
        "%matplotlib inline\n",
        "from textblob import TextBlob, Word\n",
        "import matplotlib.pyplot as plt\n",
        "import seaborn as sns\n",
        "sns.set(color_codes=True)\n",
        "import csv\n",
        "import pandas as pd"
      ],
      "execution_count": null,
      "outputs": []
    },
    {
      "cell_type": "code",
      "metadata": {
        "colab": {
          "base_uri": "https://localhost:8080/"
        },
        "id": "DefZN_6AcYGz",
        "outputId": "9cf73124-af4f-4acf-c7e9-0963e5373eb5"
      },
      "source": [
        "with open('Amazon_Unlocked_Mobile.csv', 'r',encoding='utf-8') as f:\n",
        "  reader = csv.reader(f)\n",
        "  results = list(reader)\n",
        "\n",
        "results = results[0]\n",
        "results"
      ],
      "execution_count": null,
      "outputs": [
        {
          "output_type": "execute_result",
          "data": {
            "text/plain": [
              "['Product Name', 'Brand Name', 'Price', 'Rating', 'Reviews', 'Review Votes']"
            ]
          },
          "metadata": {
            "tags": []
          },
          "execution_count": 11
        }
      ]
    },
    {
      "cell_type": "code",
      "metadata": {
        "colab": {
          "base_uri": "https://localhost:8080/"
        },
        "id": "Tm-7m2DacjqR",
        "outputId": "934a86c5-3f4b-4654-9c6a-d93d1baba754"
      },
      "source": [
        "col_list = ['Product Name', 'Brand Name', 'Price', 'Rating', 'Reviews', 'Review Votes']\n",
        "df = pd. read_csv(\"Amazon_Unlocked_Mobile.csv\", usecols=col_list)\n",
        "result=(df['Reviews'].head(50))\n",
        "result"
      ],
      "execution_count": null,
      "outputs": [
        {
          "output_type": "execute_result",
          "data": {
            "text/plain": [
              "0     I feel so LUCKY to have found this used (phone...\n",
              "1     nice phone, nice up grade from my pantach revu...\n",
              "2                                          Very pleased\n",
              "3     It works good but it goes slow sometimes but i...\n",
              "4     Great phone to replace my lost phone. The only...\n",
              "5     I already had a phone with problems... I know ...\n",
              "6     The charging port was loose. I got that solder...\n",
              "7     Phone looks good but wouldn't stay charged, ha...\n",
              "8     I originally was using the Samsung S2 Galaxy f...\n",
              "9     It's battery life is great. It's very responsi...\n",
              "10    My fiance had this phone previously, but cause...\n",
              "11    This is a great product it came after two days...\n",
              "12    These guys are the best! I had a little situat...\n",
              "13    I'm really disappointed about my phone and ser...\n",
              "14    Ordered this phone as a replacement for the sa...\n",
              "15    Had this phone before and loved it but was not...\n",
              "16    I was able to get the phone I previously owned...\n",
              "17    I brought this phone as a replacement for my d...\n",
              "18    I love the phone. It does everything I need an...\n",
              "19    unfortunately Sprint could not activate the ph...\n",
              "20    The battery was old & had been over used becau...\n",
              "21    pros-beautiful screen,capable of running chrom...\n",
              "22    I purchased this phone in December as a christ...\n",
              "23    Phone good just a little slow phone old but it...\n",
              "24    Phone's speaker little low. Overall very happy...\n",
              "25    the phone was great and in good condition. My ...\n",
              "26    the reasons for the 3 star rating was it was i...\n",
              "27                Phone works great. No problems at all\n",
              "28         was not in good condition but does work good\n",
              "29    Just... not good. The phone has great screen r...\n",
              "30                             as described, fast ship!\n",
              "31                                Perfect in every way.\n",
              "32    One of the phones have a bad charger port. I w...\n",
              "33    Just got this phone and it is a great phone. I...\n",
              "34    The phone was great but it had gotten old so i...\n",
              "35    This phone came in great condition! Great pric...\n",
              "36    Met all of my expectations. I can't complain a...\n",
              "37    Phone is working on, I was planning to use it ...\n",
              "38               excellent product in perfect condition\n",
              "39                                            excellent\n",
              "40                                            excelente\n",
              "41                                            excelente\n",
              "42    I like these phone I bought it for my mom and ...\n",
              "43                     It came with arabian keyboard :(\n",
              "44    I love the phone, but one problem and one prob...\n",
              "45                                           I love it!\n",
              "46    Very practical and user-friendly phone. I am v...\n",
              "47                               Sharp and classy phone\n",
              "48                                            very good\n",
              "49                                         100% gooddd!\n",
              "Name: Reviews, dtype: object"
            ]
          },
          "metadata": {
            "tags": []
          },
          "execution_count": 13
        }
      ]
    },
    {
      "cell_type": "code",
      "metadata": {
        "colab": {
          "base_uri": "https://localhost:8080/"
        },
        "id": "UxzGDMfTnbST",
        "outputId": "4123990b-b502-4138-8aea-f3e2fc834dd5"
      },
      "source": [
        "import nltk\n",
        "nltk.download('punkt')"
      ],
      "execution_count": null,
      "outputs": [
        {
          "output_type": "stream",
          "text": [
            "[nltk_data] Downloading package punkt to /root/nltk_data...\n",
            "[nltk_data]   Package punkt is already up-to-date!\n"
          ],
          "name": "stdout"
        },
        {
          "output_type": "execute_result",
          "data": {
            "text/plain": [
              "True"
            ]
          },
          "metadata": {
            "tags": []
          },
          "execution_count": 14
        }
      ]
    },
    {
      "cell_type": "code",
      "metadata": {
        "colab": {
          "base_uri": "https://localhost:8080/"
        },
        "id": "rc8uL7e_dr-x",
        "outputId": "349f7fa3-ea0d-4f72-afe1-b33c200d8933"
      },
      "source": [
        "from string import punctuation\n",
        "import re\n",
        "\n",
        "def clean_sentence(sentence):\n",
        "    sentence = re.sub(r\"(?:\\@|https?\\://)\\S+|\\n+\", \"\", sentence.lower())\n",
        "    # Fix spelling errors in comments!\n",
        "    sent = TextBlob(sentence)\n",
        "    sent.correct()\n",
        "    clean = \"\"\n",
        "    for sentence in sent.sentences:    \n",
        "        words = sentence.words\n",
        "        # Remove punctuations\n",
        "        words = [''.join(c for c in s if c not in punctuation) for s in words]\n",
        "        words = [s for s in words if s]\n",
        "        clean += \" \".join(words)\n",
        "        clean += \". \"\n",
        "    return clean\n",
        "\n",
        "result = [clean_sentence(x) for x in result]\n",
        "result"
      ],
      "execution_count": null,
      "outputs": [
        {
          "output_type": "execute_result",
          "data": {
            "text/plain": [
              "['i feel so lucky to have found this used phone to us not used hard at all phone on line from someone who upgraded and sold this one. my son liked his old one that finally fell apart after 25 years and did nt want an upgrade. thank you seller we really appreciate it your honesty re said used phonei recommend this seller very highly would but from them again. . ',\n",
              " 'nice phone nice up grade from my pantach revue. very clean set up and easy set up. never had an android phone but they are fantastic to say the least. perfect size for surfing and social media. great phone samsung. ',\n",
              " 'very pleased. ',\n",
              " 'it works good but it goes slow sometimes but its a very good phone i love it. ',\n",
              " 'great phone to replace my lost phone. the only thing is the volume up button does not work but i can still go into settings to adjust. other than that it does the job until i am eligible to upgrade my phone againthaanks. ',\n",
              " 'i already had a phone with problems i know it stated it was used but dang it did not state that it did not charge. i wish i would have read these comments then i would have not purchased this item and its cracked on the side damaged goods is what it is if trying to charge it another way does not work i am requesting for my money back and i will get my money back signed an unhappy customer. ',\n",
              " 'the charging port was loose. i got that soldered in. then needed a new battery as well. 100 later not including cost of purchase i have a usable phone. the phone should not have been sold in the state it was in. ',\n",
              " 'phone looks good but would nt stay charged had to buy new battery. still could nt stay charged longso i trashed itmoney lost never again will i buy from this person. . . ',\n",
              " 'i originally was using the samsung s2 galaxy for sprint and wanted to return back to the samsung epic 4g for sprint because i really missed the keyboard i really liked the smaller compact size of the phone and i still needed some of the basic functions of a smart phone ie. checking email getting directions text messaging because the phone is not as powerful as the newer cell phones out there just be aware that the more applications you install the slower the phone runs and will most likely freeze up from time to time. but the camera works great the video is great as well and even the web browsing is decent and gives me what i need. i also notice that battery life lasts a little bit longer and charging the phone is much quicker than my galaxy s2. ',\n",
              " 'it s battery life is great. it s very responsive to touch. the only issue is that sometimes the screen goes black and you have to press the top button several times to get the screen to reilluminate. ',\n",
              " 'my fiance had this phone previously but caused many problems. so of course we decided to browse amazon for a replacement til our contract is up. so far so good. ',\n",
              " 'this is a great product it came after two days of ordering it. there was only one little blemish on the side but who cares as long as the phone is fullly functionali recommend this product to anyone reading this. ',\n",
              " 'these guys are the best. i had a little situation with my item but they quickly fixed the issue. i was pleased and will definitely be buying another phon from them if i need one. ',\n",
              " 'i m really disappointed about my phone and service. the phone went out on me over a week ago. instead of handling it when issue first surfaced. i ve been told to do this and do that. now i m stick with no phone and i m out 55 dollars for service that i m not using. i still have nt received a mailing label to return item. this was my first purchase on amazon. i m not rushing to use theirs or smartphones 288 business anytime soon. i thought i was getting a deal but it seems like i m the one who lucked out. ',\n",
              " 'ordered this phone as a replacement for the same model until my contract expires and i can get a new one. seller confirmation said delivery could take up to 7 days. seller sent out the phone within hours of receiving the order and i had the phone the next day. phone looks better than described was able to transfer data from the old one to the new one with no problems. highly recommend this seller. ',\n",
              " 'had this phone before and loved it but was not working so i got this phone. one thing is the sd card slot does not open up when i try to access it in file managment even does not show up on the computer. the card is fine was able to open on another phone. trying to trouble shoot it for now. ',\n",
              " 'i was able to get the phone i previously owned with a keyboard and touch screen. it s the best phone and i love it. i still had to clean the device with my service provider but it was well worth it. ',\n",
              " 'i brought this phone as a replacement for my daughter who is very hard on cell phones. i must say it was a great purchase. the phone work wonderful. thank you. ',\n",
              " 'i love the phone. it does everything i need and works great. i purchased four of these phones through a seller that shipped from amazon s warehouse. my only problem is that the phone did nt come with a micro sd card. i could nt use the camera until i got the card. no problems getting these activated at sprint. ',\n",
              " 'unfortunately sprint could not activate the phone due to the blocking issue with the phone the matter was handled very well and quickly. very satisfied with the service. ',\n",
              " 'the battery was old had been over used because it barely holds a charge. otherwise no issues with the phone itself. ',\n",
              " 'prosbeautiful screen capable of running chrome take good pictures the keyboard is comfy fits in my pocket and fit my hands plays really good videos and gamesconsno bluetooth came late run down fast really quick doesnt play 1080p videosbut i would still recommend it to those who like to talk and text a lot like me and watch a lot of movies. ',\n",
              " 'i purchased this phone in december as a christmas present to my son. i called sprint to activate the phone only to find out the esn was nt clear. i was told to come into the store and upon research the phone was nt clear. i reached out to this company to inform them that this esn was nt clean. i was told to send the phone back and they would send out another phone. i asked the representative to provide me with the esn so that i could call and make sure it was clear. i was told that they did nt have to phone available and was guaranteed it would be clear. i should ve known something was wrong then. i received a second phone that turned out not have a clear esn. the representative at sprint informed me that the seller of these phones are aware the the esn is nt clear. so once again i had to send another phone back. i asked for a refund for the phone and shipping since the sent me two phones that did nt have a clear esn. i received my refund for the phone but have yet to see a refund for the shipping. i would nt suggest you buy anything from them. ',\n",
              " 'phone good just a little slow phone old but it s a great phone temporary right now. thank you for the great deal. ',\n",
              " 'phone s speaker little low. overall very happy with the phone. i would purchase another cell phone from chubbietech. i am satisfied. ',\n",
              " 'the phone was great and in good condition. my daughter is so happy the be a andriod user now. . ',\n",
              " 'the reasons for the 3 star rating was it was in my opinion better than my iphone 4s but it tends to randomly crash and randomly power off but it is good for storage space battery usage and camera. ',\n",
              " 'phone works great. no problems at all. ',\n",
              " 'was not in good condition but does work good. ',\n",
              " 'just not good. the phone has great screen resolution storage is low you need an sd card to do anything. may have a clear esn but do nt expect to use it with things like freedompop. ',\n",
              " 'as described fast ship. ',\n",
              " 'perfect in every way. ',\n",
              " 'one of the phones have a bad charger port. i want to send it back. ',\n",
              " 'just got this phone and it is a great phone. it s easy to use. ',\n",
              " 'the phone was great but it had gotten old so it was time for a replacementit was great while it lasted. ',\n",
              " 'this phone came in great condition. great price and it brings back great memories of owning this phone. ',\n",
              " 'met all of my expectations. i ca nt complain at all. great price. ',\n",
              " 'phone is working on i was planning to use it for whatsapp anyway. the oh problem i ca nt change the idiom. ',\n",
              " 'excellent product in perfect condition. ',\n",
              " 'excellent. ',\n",
              " 'excelente. ',\n",
              " 'excelente. ',\n",
              " 'i like these phone i bought it for my mom and she loves it. ',\n",
              " 'it came with arabian keyboard. ',\n",
              " 'i love the phone but one problem and one problem only once the mic goes that s it. no more mic. but it can take a beating. ',\n",
              " 'i love it. ',\n",
              " 'very practical and userfriendly phone. i am very satisfied with it. ',\n",
              " 'sharp and classy phone. ',\n",
              " 'very good. ',\n",
              " '100 gooddd. ']"
            ]
          },
          "metadata": {
            "tags": []
          },
          "execution_count": 15
        }
      ]
    },
    {
      "cell_type": "code",
      "metadata": {
        "colab": {
          "base_uri": "https://localhost:8080/"
        },
        "id": "GYbI0deXoKrO",
        "outputId": "22c1d704-edc0-492f-8c91-0047ba4fdcce"
      },
      "source": [
        "import nltk\n",
        "nltk.download('brown')"
      ],
      "execution_count": null,
      "outputs": [
        {
          "output_type": "stream",
          "text": [
            "[nltk_data] Downloading package brown to /root/nltk_data...\n",
            "[nltk_data]   Unzipping corpora/brown.zip.\n"
          ],
          "name": "stdout"
        },
        {
          "output_type": "execute_result",
          "data": {
            "text/plain": [
              "True"
            ]
          },
          "metadata": {
            "tags": []
          },
          "execution_count": 19
        }
      ]
    },
    {
      "cell_type": "code",
      "metadata": {
        "colab": {
          "base_uri": "https://localhost:8080/"
        },
        "id": "WzjGc_e_n5dH",
        "outputId": "89e6d5de-757d-40e8-9495-3ab70e3d2393"
      },
      "source": [
        "comments = TextBlob(' '.join(result))\n",
        "comments.noun_phrases"
      ],
      "execution_count": null,
      "outputs": [
        {
          "output_type": "execute_result",
          "data": {
            "text/plain": [
              "WordList(['honesty re', 'nice phone', 'pantach revue', 'clean set', 'easy set', 'android phone', 'perfect size', 'social media', 'great phone samsung', 'good phone i', 'great phone', 'phone againthaanks', 'problems i', 'unhappy customer', 'new battery', 'purchase i', 'usable phone', 'nt stay', 'new battery', 'nt stay', 'longso i', 'samsung s2 galaxy', 'samsung epic 4g', 'keyboard i', 'compact size', 'basic functions', 'smart phone ie', 'directions text', 'cell phones', 'phone runs', 'i need', 'battery life lasts', 'galaxy s2', 's battery life', 'top button', 'browse amazon', 'replacement til', 'great product', 'i need', 'i m', 'i ve', 'i m', 'i m', 'i m', 'i m', 'i m', 'seller confirmation', 'sd card slot', 'file managment', 'trouble shoot', 'phone i', 'touch screen', 'service provider', 'cell phones', 'great purchase', 'phone work', 'i need', 'amazon s warehouse', 'micro sd card', 'nt use', 'prosbeautiful screen', 'good pictures', 'hands plays', 'good videos', 'gamesconsno bluetooth', 'late run', 'quick doesnt play 1080p videosbut i', 'clear esn', 'clear esn', 'phone good', 'slow phone', 'great phone', 'temporary right', 'phone s speaker', 'cell phone', 'good condition', 'andriod user', 'iphone 4s', 'storage space battery usage', 'good condition', 'work good', 'great screen resolution storage', 'sd card', 'clear esn', 'fast ship', 'bad charger port', 'great phone', 'great condition', 'great price', 'great memories', 'i ca nt complain', 'great price', 'oh problem i ca nt', 'excellent product', 'perfect condition', 'phone i', 'arabian keyboard', 'classy phone'])"
            ]
          },
          "metadata": {
            "tags": []
          },
          "execution_count": 20
        }
      ]
    },
    {
      "cell_type": "code",
      "metadata": {
        "colab": {
          "base_uri": "https://localhost:8080/"
        },
        "id": "0ZkPVpyLoXus",
        "outputId": "8a932aaa-ea05-4545-eec0-871143db5123"
      },
      "source": [
        "import nltk\n",
        "nltk.download('wordnet')"
      ],
      "execution_count": null,
      "outputs": [
        {
          "output_type": "stream",
          "text": [
            "[nltk_data] Downloading package wordnet to /root/nltk_data...\n",
            "[nltk_data]   Unzipping corpora/wordnet.zip.\n"
          ],
          "name": "stdout"
        },
        {
          "output_type": "execute_result",
          "data": {
            "text/plain": [
              "True"
            ]
          },
          "metadata": {
            "tags": []
          },
          "execution_count": 22
        }
      ]
    },
    {
      "cell_type": "code",
      "metadata": {
        "colab": {
          "base_uri": "https://localhost:8080/"
        },
        "id": "GLCP7cANoUsB",
        "outputId": "27bcb221-32a1-4574-f8a3-08a8f92da137"
      },
      "source": [
        "cleaned = list()\n",
        "for phrase in comments.noun_phrases:\n",
        "    count = 0\n",
        "    for word in phrase.split():\n",
        "        # Count the number of small words and words without an English definition\n",
        "        if len(word) <= 2 or (not Word(word).definitions):\n",
        "            count += 1\n",
        "    # Only if the 'nonsensical' or short words DO NOT make up more than 40% (arbitrary) of the phrase add\n",
        "    # it to the cleaned list, effectively pruning the ones not added.\n",
        "    if count < len(phrase.split())*0.4:\n",
        "        cleaned.append(phrase)\n",
        "        \n",
        "print(\"After compactness pruning:\\nFeature Size:\")\n",
        "len(cleaned)"
      ],
      "execution_count": null,
      "outputs": [
        {
          "output_type": "stream",
          "text": [
            "After compactness pruning:\n",
            "Feature Size:\n"
          ],
          "name": "stdout"
        },
        {
          "output_type": "execute_result",
          "data": {
            "text/plain": [
              "60"
            ]
          },
          "metadata": {
            "tags": []
          },
          "execution_count": 23
        }
      ]
    },
    {
      "cell_type": "code",
      "metadata": {
        "colab": {
          "base_uri": "https://localhost:8080/"
        },
        "id": "BLzvx2D2oeg-",
        "outputId": "a67020e9-b14f-4fa4-928d-37a8344cda91"
      },
      "source": [
        "for phrase in cleaned:    \n",
        "    match = list()\n",
        "    temp = list()\n",
        "    word_match = list()\n",
        "    for word in phrase.split():\n",
        "        # Find common words among all phrases\n",
        "        word_match = [p for p in cleaned if re.search(word, p) and p not in word_match]\n",
        "        # If the size of matched phrases set is smaller than 30% of the cleaned phrases, \n",
        "        # then consider the phrase as non-redundant.\n",
        "        if len(word_match) <= len(cleaned)*0.3 :\n",
        "            temp.append(word)\n",
        "            match += word_match\n",
        "            \n",
        "    phrase = ' '.join(temp)\n",
        "#     print(\"Match for \" + phrase + \": \" + str(match))\n",
        "\n",
        "    if len(match) >= len(cleaned)*0.1 :\n",
        "        # Redundant feature set, since it contains more than 10% of the number of phrases. \n",
        "        # Prune all matched features.\n",
        "        for feature in match:\n",
        "            if feature in cleaned:\n",
        "                cleaned.remove(feature)\n",
        "            \n",
        "        # Add largest length phrase as feature\n",
        "        cleaned.append(max(match, key=len))\n",
        "        \n",
        "\n",
        "print(\"After redundancy pruning:\\nFeature Size:\" + str(len(cleaned)))\n",
        "print(\"Cleaned features:\")\n",
        "cleaned"
      ],
      "execution_count": null,
      "outputs": [
        {
          "output_type": "stream",
          "text": [
            "After redundancy pruning:\n",
            "Feature Size:23\n",
            "Cleaned features:\n"
          ],
          "name": "stdout"
        },
        {
          "output_type": "execute_result",
          "data": {
            "text/plain": [
              "['clean set',\n",
              " 'easy set',\n",
              " 'social media',\n",
              " 'unhappy customer',\n",
              " 'compact size',\n",
              " 'basic functions',\n",
              " 'directions text',\n",
              " 'top button',\n",
              " 'browse amazon',\n",
              " 'seller confirmation',\n",
              " 'sd card slot',\n",
              " 'trouble shoot',\n",
              " 'service provider',\n",
              " 'amazon s warehouse',\n",
              " 'micro sd card',\n",
              " 'hands plays',\n",
              " 'late run',\n",
              " 'temporary right',\n",
              " 'fast ship',\n",
              " 'bad charger port',\n",
              " 'arabian keyboard',\n",
              " 'perfect condition',\n",
              " 'great screen resolution storage']"
            ]
          },
          "metadata": {
            "tags": []
          },
          "execution_count": 24
        }
      ]
    },
    {
      "cell_type": "code",
      "metadata": {
        "colab": {
          "base_uri": "https://localhost:8080/"
        },
        "id": "Arlo4zWXomQw",
        "outputId": "23ade031-9c16-40ad-f3b0-f93fc6cb4a42"
      },
      "source": [
        "import nltk\n",
        "nltk.download('stopwords')\n",
        "  "
      ],
      "execution_count": null,
      "outputs": [
        {
          "output_type": "stream",
          "text": [
            "[nltk_data] Downloading package stopwords to /root/nltk_data...\n",
            "[nltk_data]   Unzipping corpora/stopwords.zip.\n"
          ],
          "name": "stdout"
        },
        {
          "output_type": "execute_result",
          "data": {
            "text/plain": [
              "True"
            ]
          },
          "metadata": {
            "tags": []
          },
          "execution_count": 26
        }
      ]
    },
    {
      "cell_type": "code",
      "metadata": {
        "colab": {
          "base_uri": "https://localhost:8080/"
        },
        "id": "DL0o4TTOohA4",
        "outputId": "55cd223c-860f-498a-a3a3-43a4813ae4f0"
      },
      "source": [
        "from nltk.corpus import stopwords\n",
        "feature_count = dict()\n",
        "for phrase in cleaned:\n",
        "    count = 0\n",
        "    for word in phrase.split():\n",
        "        if word not in stopwords.words('english'):\n",
        "            count += comments.words.count(word)\n",
        "    \n",
        "    print(phrase + \": \" + str(count))\n",
        "    feature_count[phrase] = count"
      ],
      "execution_count": null,
      "outputs": [
        {
          "output_type": "stream",
          "text": [
            "clean set: 5\n",
            "easy set: 4\n",
            "social media: 2\n",
            "unhappy customer: 2\n",
            "compact size: 3\n",
            "basic functions: 2\n",
            "directions text: 3\n",
            "top button: 3\n",
            "browse amazon: 4\n",
            "seller confirmation: 8\n",
            "sd card slot: 9\n",
            "trouble shoot: 2\n",
            "service provider: 5\n",
            "amazon s warehouse: 4\n",
            "micro sd card: 9\n",
            "hands plays: 2\n",
            "late run: 2\n",
            "temporary right: 2\n",
            "fast ship: 3\n",
            "bad charger port: 4\n",
            "arabian keyboard: 5\n",
            "perfect condition: 7\n",
            "great screen resolution storage: 28\n"
          ],
          "name": "stdout"
        }
      ]
    },
    {
      "cell_type": "code",
      "metadata": {
        "colab": {
          "base_uri": "https://localhost:8080/"
        },
        "id": "cVkYbKg8ott8",
        "outputId": "e95b43f0-f5b3-4812-fd98-e80308df59dc"
      },
      "source": [
        "counts = list(feature_count.values())\n",
        "features = list(feature_count.keys())\n",
        "threshold = len(comments.noun_phrases)/100\n",
        "#threshold=66\n",
        "\n",
        "print(\"Threshold:\" + str(threshold))\n",
        "\n",
        "frequent_features = list()\n",
        "\n",
        "for feature, count in feature_count.items():\n",
        "    if count >= threshold:\n",
        "        frequent_features.append(feature)\n",
        "print(' Features:')\n",
        "frequent_features=frequent_features[0:100]\n",
        "frequent_features"
      ],
      "execution_count": null,
      "outputs": [
        {
          "output_type": "stream",
          "text": [
            "Threshold:0.98\n",
            " Features:\n"
          ],
          "name": "stdout"
        },
        {
          "output_type": "execute_result",
          "data": {
            "text/plain": [
              "['clean set',\n",
              " 'easy set',\n",
              " 'social media',\n",
              " 'unhappy customer',\n",
              " 'compact size',\n",
              " 'basic functions',\n",
              " 'directions text',\n",
              " 'top button',\n",
              " 'browse amazon',\n",
              " 'seller confirmation',\n",
              " 'sd card slot',\n",
              " 'trouble shoot',\n",
              " 'service provider',\n",
              " 'amazon s warehouse',\n",
              " 'micro sd card',\n",
              " 'hands plays',\n",
              " 'late run',\n",
              " 'temporary right',\n",
              " 'fast ship',\n",
              " 'bad charger port',\n",
              " 'arabian keyboard',\n",
              " 'perfect condition',\n",
              " 'great screen resolution storage']"
            ]
          },
          "metadata": {
            "tags": []
          },
          "execution_count": 29
        }
      ]
    },
    {
      "cell_type": "code",
      "metadata": {
        "colab": {
          "base_uri": "https://localhost:8080/"
        },
        "id": "GtnZXJn9o8V5",
        "outputId": "2b728169-8667-439b-c5e9-ec3d3a2cb62b"
      },
      "source": [
        "import nltk\n",
        "nltk.download('vader_lexicon')"
      ],
      "execution_count": null,
      "outputs": [
        {
          "output_type": "stream",
          "text": [
            "[nltk_data] Downloading package vader_lexicon to /root/nltk_data...\n"
          ],
          "name": "stdout"
        },
        {
          "output_type": "execute_result",
          "data": {
            "text/plain": [
              "True"
            ]
          },
          "metadata": {
            "tags": []
          },
          "execution_count": 31
        }
      ]
    },
    {
      "cell_type": "code",
      "metadata": {
        "colab": {
          "base_uri": "https://localhost:8080/",
          "height": 754
        },
        "id": "ooegCQ6go49J",
        "outputId": "1727ca7c-cc5b-4455-ab6f-fb781cde4c17"
      },
      "source": [
        "def nltk_sentiment(sentence):\n",
        "    from nltk.sentiment.vader import SentimentIntensityAnalyzer\n",
        "    \n",
        "    nltk_sentiment = SentimentIntensityAnalyzer()\n",
        "    score = nltk_sentiment.polarity_scores(sentence)\n",
        "    return score\n",
        "#b=dataset.values.T.tolist()\n",
        "#print(b)\n",
        "nltk_results = [nltk_sentiment(row) for row in frequent_features]\n",
        "#print(nltk_results)\n",
        "results_df = pd.DataFrame(nltk_results)\n",
        "#print(results_df)\n",
        "text_df = pd.DataFrame(frequent_features)\n",
        "#print(text_df)\n",
        "nltk_df = text_df.join(results_df)\n",
        "#nltk_df1=nltk_df[[0,'neu']]\n",
        "#print(nltk_df)\n",
        "nltk_df.head(100)"
      ],
      "execution_count": null,
      "outputs": [
        {
          "output_type": "execute_result",
          "data": {
            "text/html": [
              "<div>\n",
              "<style scoped>\n",
              "    .dataframe tbody tr th:only-of-type {\n",
              "        vertical-align: middle;\n",
              "    }\n",
              "\n",
              "    .dataframe tbody tr th {\n",
              "        vertical-align: top;\n",
              "    }\n",
              "\n",
              "    .dataframe thead th {\n",
              "        text-align: right;\n",
              "    }\n",
              "</style>\n",
              "<table border=\"1\" class=\"dataframe\">\n",
              "  <thead>\n",
              "    <tr style=\"text-align: right;\">\n",
              "      <th></th>\n",
              "      <th>0</th>\n",
              "      <th>neg</th>\n",
              "      <th>neu</th>\n",
              "      <th>pos</th>\n",
              "      <th>compound</th>\n",
              "    </tr>\n",
              "  </thead>\n",
              "  <tbody>\n",
              "    <tr>\n",
              "      <th>0</th>\n",
              "      <td>clean set</td>\n",
              "      <td>0.000</td>\n",
              "      <td>0.270</td>\n",
              "      <td>0.730</td>\n",
              "      <td>0.4019</td>\n",
              "    </tr>\n",
              "    <tr>\n",
              "      <th>1</th>\n",
              "      <td>easy set</td>\n",
              "      <td>0.000</td>\n",
              "      <td>0.256</td>\n",
              "      <td>0.744</td>\n",
              "      <td>0.4404</td>\n",
              "    </tr>\n",
              "    <tr>\n",
              "      <th>2</th>\n",
              "      <td>social media</td>\n",
              "      <td>0.000</td>\n",
              "      <td>1.000</td>\n",
              "      <td>0.000</td>\n",
              "      <td>0.0000</td>\n",
              "    </tr>\n",
              "    <tr>\n",
              "      <th>3</th>\n",
              "      <td>unhappy customer</td>\n",
              "      <td>0.737</td>\n",
              "      <td>0.263</td>\n",
              "      <td>0.000</td>\n",
              "      <td>-0.4215</td>\n",
              "    </tr>\n",
              "    <tr>\n",
              "      <th>4</th>\n",
              "      <td>compact size</td>\n",
              "      <td>0.000</td>\n",
              "      <td>1.000</td>\n",
              "      <td>0.000</td>\n",
              "      <td>0.0000</td>\n",
              "    </tr>\n",
              "    <tr>\n",
              "      <th>5</th>\n",
              "      <td>basic functions</td>\n",
              "      <td>0.000</td>\n",
              "      <td>1.000</td>\n",
              "      <td>0.000</td>\n",
              "      <td>0.0000</td>\n",
              "    </tr>\n",
              "    <tr>\n",
              "      <th>6</th>\n",
              "      <td>directions text</td>\n",
              "      <td>0.000</td>\n",
              "      <td>1.000</td>\n",
              "      <td>0.000</td>\n",
              "      <td>0.0000</td>\n",
              "    </tr>\n",
              "    <tr>\n",
              "      <th>7</th>\n",
              "      <td>top button</td>\n",
              "      <td>0.000</td>\n",
              "      <td>0.357</td>\n",
              "      <td>0.643</td>\n",
              "      <td>0.2023</td>\n",
              "    </tr>\n",
              "    <tr>\n",
              "      <th>8</th>\n",
              "      <td>browse amazon</td>\n",
              "      <td>0.000</td>\n",
              "      <td>0.370</td>\n",
              "      <td>0.630</td>\n",
              "      <td>0.1779</td>\n",
              "    </tr>\n",
              "    <tr>\n",
              "      <th>9</th>\n",
              "      <td>seller confirmation</td>\n",
              "      <td>0.000</td>\n",
              "      <td>1.000</td>\n",
              "      <td>0.000</td>\n",
              "      <td>0.0000</td>\n",
              "    </tr>\n",
              "    <tr>\n",
              "      <th>10</th>\n",
              "      <td>sd card slot</td>\n",
              "      <td>0.000</td>\n",
              "      <td>1.000</td>\n",
              "      <td>0.000</td>\n",
              "      <td>0.0000</td>\n",
              "    </tr>\n",
              "    <tr>\n",
              "      <th>11</th>\n",
              "      <td>trouble shoot</td>\n",
              "      <td>1.000</td>\n",
              "      <td>0.000</td>\n",
              "      <td>0.000</td>\n",
              "      <td>-0.6249</td>\n",
              "    </tr>\n",
              "    <tr>\n",
              "      <th>12</th>\n",
              "      <td>service provider</td>\n",
              "      <td>0.000</td>\n",
              "      <td>1.000</td>\n",
              "      <td>0.000</td>\n",
              "      <td>0.0000</td>\n",
              "    </tr>\n",
              "    <tr>\n",
              "      <th>13</th>\n",
              "      <td>amazon s warehouse</td>\n",
              "      <td>0.000</td>\n",
              "      <td>0.370</td>\n",
              "      <td>0.630</td>\n",
              "      <td>0.1779</td>\n",
              "    </tr>\n",
              "    <tr>\n",
              "      <th>14</th>\n",
              "      <td>micro sd card</td>\n",
              "      <td>0.000</td>\n",
              "      <td>1.000</td>\n",
              "      <td>0.000</td>\n",
              "      <td>0.0000</td>\n",
              "    </tr>\n",
              "    <tr>\n",
              "      <th>15</th>\n",
              "      <td>hands plays</td>\n",
              "      <td>0.000</td>\n",
              "      <td>0.333</td>\n",
              "      <td>0.667</td>\n",
              "      <td>0.2500</td>\n",
              "    </tr>\n",
              "    <tr>\n",
              "      <th>16</th>\n",
              "      <td>late run</td>\n",
              "      <td>0.000</td>\n",
              "      <td>1.000</td>\n",
              "      <td>0.000</td>\n",
              "      <td>0.0000</td>\n",
              "    </tr>\n",
              "    <tr>\n",
              "      <th>17</th>\n",
              "      <td>temporary right</td>\n",
              "      <td>0.000</td>\n",
              "      <td>1.000</td>\n",
              "      <td>0.000</td>\n",
              "      <td>0.0000</td>\n",
              "    </tr>\n",
              "    <tr>\n",
              "      <th>18</th>\n",
              "      <td>fast ship</td>\n",
              "      <td>0.000</td>\n",
              "      <td>1.000</td>\n",
              "      <td>0.000</td>\n",
              "      <td>0.0000</td>\n",
              "    </tr>\n",
              "    <tr>\n",
              "      <th>19</th>\n",
              "      <td>bad charger port</td>\n",
              "      <td>0.636</td>\n",
              "      <td>0.364</td>\n",
              "      <td>0.000</td>\n",
              "      <td>-0.5423</td>\n",
              "    </tr>\n",
              "    <tr>\n",
              "      <th>20</th>\n",
              "      <td>arabian keyboard</td>\n",
              "      <td>0.000</td>\n",
              "      <td>1.000</td>\n",
              "      <td>0.000</td>\n",
              "      <td>0.0000</td>\n",
              "    </tr>\n",
              "    <tr>\n",
              "      <th>21</th>\n",
              "      <td>perfect condition</td>\n",
              "      <td>0.000</td>\n",
              "      <td>0.213</td>\n",
              "      <td>0.787</td>\n",
              "      <td>0.5719</td>\n",
              "    </tr>\n",
              "    <tr>\n",
              "      <th>22</th>\n",
              "      <td>great screen resolution storage</td>\n",
              "      <td>0.000</td>\n",
              "      <td>0.423</td>\n",
              "      <td>0.577</td>\n",
              "      <td>0.6249</td>\n",
              "    </tr>\n",
              "  </tbody>\n",
              "</table>\n",
              "</div>"
            ],
            "text/plain": [
              "                                  0    neg    neu    pos  compound\n",
              "0                         clean set  0.000  0.270  0.730    0.4019\n",
              "1                          easy set  0.000  0.256  0.744    0.4404\n",
              "2                      social media  0.000  1.000  0.000    0.0000\n",
              "3                  unhappy customer  0.737  0.263  0.000   -0.4215\n",
              "4                      compact size  0.000  1.000  0.000    0.0000\n",
              "5                   basic functions  0.000  1.000  0.000    0.0000\n",
              "6                   directions text  0.000  1.000  0.000    0.0000\n",
              "7                        top button  0.000  0.357  0.643    0.2023\n",
              "8                     browse amazon  0.000  0.370  0.630    0.1779\n",
              "9               seller confirmation  0.000  1.000  0.000    0.0000\n",
              "10                     sd card slot  0.000  1.000  0.000    0.0000\n",
              "11                    trouble shoot  1.000  0.000  0.000   -0.6249\n",
              "12                 service provider  0.000  1.000  0.000    0.0000\n",
              "13               amazon s warehouse  0.000  0.370  0.630    0.1779\n",
              "14                    micro sd card  0.000  1.000  0.000    0.0000\n",
              "15                      hands plays  0.000  0.333  0.667    0.2500\n",
              "16                         late run  0.000  1.000  0.000    0.0000\n",
              "17                  temporary right  0.000  1.000  0.000    0.0000\n",
              "18                        fast ship  0.000  1.000  0.000    0.0000\n",
              "19                 bad charger port  0.636  0.364  0.000   -0.5423\n",
              "20                 arabian keyboard  0.000  1.000  0.000    0.0000\n",
              "21                perfect condition  0.000  0.213  0.787    0.5719\n",
              "22  great screen resolution storage  0.000  0.423  0.577    0.6249"
            ]
          },
          "metadata": {
            "tags": []
          },
          "execution_count": 33
        }
      ]
    },
    {
      "cell_type": "code",
      "metadata": {
        "colab": {
          "base_uri": "https://localhost:8080/",
          "height": 754
        },
        "id": "7B58qSp4pJLE",
        "outputId": "b4a84a5c-d315-4cf5-a00b-6c47d80f2c93"
      },
      "source": [
        "newdf=nltk_df[0]\n",
        "newdf=pd.DataFrame({'features':nltk_df[0],'pos':nltk_df['pos'],'neg':nltk_df['neg']})\n",
        "newdf.pos=newdf.pos+0.2\n",
        "newdf.neg=newdf.neg-0.2\n",
        "newdf"
      ],
      "execution_count": null,
      "outputs": [
        {
          "output_type": "execute_result",
          "data": {
            "text/html": [
              "<div>\n",
              "<style scoped>\n",
              "    .dataframe tbody tr th:only-of-type {\n",
              "        vertical-align: middle;\n",
              "    }\n",
              "\n",
              "    .dataframe tbody tr th {\n",
              "        vertical-align: top;\n",
              "    }\n",
              "\n",
              "    .dataframe thead th {\n",
              "        text-align: right;\n",
              "    }\n",
              "</style>\n",
              "<table border=\"1\" class=\"dataframe\">\n",
              "  <thead>\n",
              "    <tr style=\"text-align: right;\">\n",
              "      <th></th>\n",
              "      <th>features</th>\n",
              "      <th>pos</th>\n",
              "      <th>neg</th>\n",
              "    </tr>\n",
              "  </thead>\n",
              "  <tbody>\n",
              "    <tr>\n",
              "      <th>0</th>\n",
              "      <td>clean set</td>\n",
              "      <td>0.930</td>\n",
              "      <td>-0.200</td>\n",
              "    </tr>\n",
              "    <tr>\n",
              "      <th>1</th>\n",
              "      <td>easy set</td>\n",
              "      <td>0.944</td>\n",
              "      <td>-0.200</td>\n",
              "    </tr>\n",
              "    <tr>\n",
              "      <th>2</th>\n",
              "      <td>social media</td>\n",
              "      <td>0.200</td>\n",
              "      <td>-0.200</td>\n",
              "    </tr>\n",
              "    <tr>\n",
              "      <th>3</th>\n",
              "      <td>unhappy customer</td>\n",
              "      <td>0.200</td>\n",
              "      <td>0.537</td>\n",
              "    </tr>\n",
              "    <tr>\n",
              "      <th>4</th>\n",
              "      <td>compact size</td>\n",
              "      <td>0.200</td>\n",
              "      <td>-0.200</td>\n",
              "    </tr>\n",
              "    <tr>\n",
              "      <th>5</th>\n",
              "      <td>basic functions</td>\n",
              "      <td>0.200</td>\n",
              "      <td>-0.200</td>\n",
              "    </tr>\n",
              "    <tr>\n",
              "      <th>6</th>\n",
              "      <td>directions text</td>\n",
              "      <td>0.200</td>\n",
              "      <td>-0.200</td>\n",
              "    </tr>\n",
              "    <tr>\n",
              "      <th>7</th>\n",
              "      <td>top button</td>\n",
              "      <td>0.843</td>\n",
              "      <td>-0.200</td>\n",
              "    </tr>\n",
              "    <tr>\n",
              "      <th>8</th>\n",
              "      <td>browse amazon</td>\n",
              "      <td>0.830</td>\n",
              "      <td>-0.200</td>\n",
              "    </tr>\n",
              "    <tr>\n",
              "      <th>9</th>\n",
              "      <td>seller confirmation</td>\n",
              "      <td>0.200</td>\n",
              "      <td>-0.200</td>\n",
              "    </tr>\n",
              "    <tr>\n",
              "      <th>10</th>\n",
              "      <td>sd card slot</td>\n",
              "      <td>0.200</td>\n",
              "      <td>-0.200</td>\n",
              "    </tr>\n",
              "    <tr>\n",
              "      <th>11</th>\n",
              "      <td>trouble shoot</td>\n",
              "      <td>0.200</td>\n",
              "      <td>0.800</td>\n",
              "    </tr>\n",
              "    <tr>\n",
              "      <th>12</th>\n",
              "      <td>service provider</td>\n",
              "      <td>0.200</td>\n",
              "      <td>-0.200</td>\n",
              "    </tr>\n",
              "    <tr>\n",
              "      <th>13</th>\n",
              "      <td>amazon s warehouse</td>\n",
              "      <td>0.830</td>\n",
              "      <td>-0.200</td>\n",
              "    </tr>\n",
              "    <tr>\n",
              "      <th>14</th>\n",
              "      <td>micro sd card</td>\n",
              "      <td>0.200</td>\n",
              "      <td>-0.200</td>\n",
              "    </tr>\n",
              "    <tr>\n",
              "      <th>15</th>\n",
              "      <td>hands plays</td>\n",
              "      <td>0.867</td>\n",
              "      <td>-0.200</td>\n",
              "    </tr>\n",
              "    <tr>\n",
              "      <th>16</th>\n",
              "      <td>late run</td>\n",
              "      <td>0.200</td>\n",
              "      <td>-0.200</td>\n",
              "    </tr>\n",
              "    <tr>\n",
              "      <th>17</th>\n",
              "      <td>temporary right</td>\n",
              "      <td>0.200</td>\n",
              "      <td>-0.200</td>\n",
              "    </tr>\n",
              "    <tr>\n",
              "      <th>18</th>\n",
              "      <td>fast ship</td>\n",
              "      <td>0.200</td>\n",
              "      <td>-0.200</td>\n",
              "    </tr>\n",
              "    <tr>\n",
              "      <th>19</th>\n",
              "      <td>bad charger port</td>\n",
              "      <td>0.200</td>\n",
              "      <td>0.436</td>\n",
              "    </tr>\n",
              "    <tr>\n",
              "      <th>20</th>\n",
              "      <td>arabian keyboard</td>\n",
              "      <td>0.200</td>\n",
              "      <td>-0.200</td>\n",
              "    </tr>\n",
              "    <tr>\n",
              "      <th>21</th>\n",
              "      <td>perfect condition</td>\n",
              "      <td>0.987</td>\n",
              "      <td>-0.200</td>\n",
              "    </tr>\n",
              "    <tr>\n",
              "      <th>22</th>\n",
              "      <td>great screen resolution storage</td>\n",
              "      <td>0.777</td>\n",
              "      <td>-0.200</td>\n",
              "    </tr>\n",
              "  </tbody>\n",
              "</table>\n",
              "</div>"
            ],
            "text/plain": [
              "                           features    pos    neg\n",
              "0                         clean set  0.930 -0.200\n",
              "1                          easy set  0.944 -0.200\n",
              "2                      social media  0.200 -0.200\n",
              "3                  unhappy customer  0.200  0.537\n",
              "4                      compact size  0.200 -0.200\n",
              "5                   basic functions  0.200 -0.200\n",
              "6                   directions text  0.200 -0.200\n",
              "7                        top button  0.843 -0.200\n",
              "8                     browse amazon  0.830 -0.200\n",
              "9               seller confirmation  0.200 -0.200\n",
              "10                     sd card slot  0.200 -0.200\n",
              "11                    trouble shoot  0.200  0.800\n",
              "12                 service provider  0.200 -0.200\n",
              "13               amazon s warehouse  0.830 -0.200\n",
              "14                    micro sd card  0.200 -0.200\n",
              "15                      hands plays  0.867 -0.200\n",
              "16                         late run  0.200 -0.200\n",
              "17                  temporary right  0.200 -0.200\n",
              "18                        fast ship  0.200 -0.200\n",
              "19                 bad charger port  0.200  0.436\n",
              "20                 arabian keyboard  0.200 -0.200\n",
              "21                perfect condition  0.987 -0.200\n",
              "22  great screen resolution storage  0.777 -0.200"
            ]
          },
          "metadata": {
            "tags": []
          },
          "execution_count": 34
        }
      ]
    },
    {
      "cell_type": "code",
      "metadata": {
        "colab": {
          "base_uri": "https://localhost:8080/",
          "height": 355
        },
        "id": "lkscXybApMZK",
        "outputId": "3c6a2556-cc5a-4698-e0d5-0335013b359e"
      },
      "source": [
        "import numpy as np\n",
        "import matplotlib.pyplot as plt\n",
        "import pandas as pd\n",
        "newdf\n",
        "\n",
        "\n",
        "pos=newdf[0:5]['pos']\n",
        "neg=newdf[0:5]['neg']\n",
        "\n",
        "# data to plot\n",
        "n_groups = 5\n",
        "positive =newdf['pos'].head(5) \n",
        "negative =newdf['neg'].head(5)\n",
        " \n",
        "# create plot\n",
        "fig, ax = plt.subplots()\n",
        "index = np.arange(n_groups)\n",
        "bar_width = 0.5\n",
        "opacity = 1\n",
        " \n",
        "rects1 = plt.bar(index, positive, bar_width,\n",
        "alpha=opacity,\n",
        "color='b',\n",
        "label='positive sentiments')\n",
        " \n",
        "rects2 = plt.bar(index + bar_width, negative, bar_width,\n",
        "alpha=opacity,\n",
        "color='r',\n",
        "label='negative sentiments')\n",
        " \n",
        "plt.xlabel('Features')\n",
        "plt.ylabel('sentiment value')\n",
        "plt.title('Top features and its sentiment')\n",
        "plt.xticks(index + bar_width, newdf['features'].head(5))\n",
        "plt.legend()\n",
        "fig.set_size_inches(10, 5)\n",
        "plt.show()"
      ],
      "execution_count": null,
      "outputs": [
        {
          "output_type": "display_data",
          "data": {
            "image/png": "[encoded data removed]",
            "text/plain": [
              "<Figure size 720x360 with 1 Axes>"
            ]
          },
          "metadata": {
            "tags": [],
            "needs_background": "light"
          }
        }
      ]
    },
    {
      "cell_type": "code",
      "metadata": {
        "colab": {
          "base_uri": "https://localhost:8080/"
        },
        "id": "XLaB6ehQqH_X",
        "outputId": "9ff2a200-cc51-4bdf-8976-2af45ab7ac4e"
      },
      "source": [
        "absa_list = dict()\n",
        "print(absa_list)\n",
        "# For each frequent feature\n",
        "for f in frequent_features:\n",
        "    # For each comment\n",
        "    absa_list[f] = list()\n",
        "    for comment in result:\n",
        "        blob = TextBlob(comment)\n",
        "        # For each sentence of the comment\n",
        "        for sentence in blob.sentences:\n",
        "            # Search for frequent feature 'f'\n",
        "            q = '|'.join(f.split())\n",
        "            if re.search(r'\\w*(' + str(q) + ')\\w*', str(sentence)):\n",
        "                absa_list[f].append(sentence)\n",
        "\n",
        "\n",
        "print(\"\\n\\nAspect Specific sentences:  \")\n",
        "absa_list"
      ],
      "execution_count": null,
      "outputs": [
        {
          "output_type": "stream",
          "text": [
            "{}\n",
            "\n",
            "\n",
            "Aspect Specific sentences:  \n"
          ],
          "name": "stdout"
        },
        {
          "output_type": "execute_result",
          "data": {
            "text/plain": [
              "{'amazon s warehouse': [Sentence(\"i feel so lucky to have found this used phone to us not used hard at all phone on line from someone who upgraded and sold this one.\"),\n",
              "  Sentence(\"my son liked his old one that finally fell apart after 25 years and did nt want an upgrade.\"),\n",
              "  Sentence(\"thank you seller we really appreciate it your honesty re said used phonei recommend this seller very highly would but from them again.\"),\n",
              "  Sentence(\"very clean set up and easy set up.\"),\n",
              "  Sentence(\"never had an android phone but they are fantastic to say the least.\"),\n",
              "  Sentence(\"perfect size for surfing and social media.\"),\n",
              "  Sentence(\"great phone samsung.\"),\n",
              "  Sentence(\"very pleased.\"),\n",
              "  Sentence(\"it works good but it goes slow sometimes but its a very good phone i love it.\"),\n",
              "  Sentence(\"great phone to replace my lost phone.\"),\n",
              "  Sentence(\"the only thing is the volume up button does not work but i can still go into settings to adjust.\"),\n",
              "  Sentence(\"other than that it does the job until i am eligible to upgrade my phone againthaanks.\"),\n",
              "  Sentence(\"i already had a phone with problems i know it stated it was used but dang it did not state that it did not charge.\"),\n",
              "  Sentence(\"i wish i would have read these comments then i would have not purchased this item and its cracked on the side damaged goods is what it is if trying to charge it another way does not work i am requesting for my money back and i will get my money back signed an unhappy customer.\"),\n",
              "  Sentence(\"the charging port was loose.\"),\n",
              "  Sentence(\"i got that soldered in.\"),\n",
              "  Sentence(\"then needed a new battery as well.\"),\n",
              "  Sentence(\"100 later not including cost of purchase i have a usable phone.\"),\n",
              "  Sentence(\"the phone should not have been sold in the state it was in.\"),\n",
              "  Sentence(\"phone looks good but would nt stay charged had to buy new battery.\"),\n",
              "  Sentence(\"still could nt stay charged longso i trashed itmoney lost never again will i buy from this person.\"),\n",
              "  Sentence(\"i originally was using the samsung s2 galaxy for sprint and wanted to return back to the samsung epic 4g for sprint because i really missed the keyboard i really liked the smaller compact size of the phone and i still needed some of the basic functions of a smart phone ie.\"),\n",
              "  Sentence(\"checking email getting directions text messaging because the phone is not as powerful as the newer cell phones out there just be aware that the more applications you install the slower the phone runs and will most likely freeze up from time to time.\"),\n",
              "  Sentence(\"but the camera works great the video is great as well and even the web browsing is decent and gives me what i need.\"),\n",
              "  Sentence(\"i also notice that battery life lasts a little bit longer and charging the phone is much quicker than my galaxy s2.\"),\n",
              "  Sentence(\"it s battery life is great.\"),\n",
              "  Sentence(\"it s very responsive to touch.\"),\n",
              "  Sentence(\"the only issue is that sometimes the screen goes black and you have to press the top button several times to get the screen to reilluminate.\"),\n",
              "  Sentence(\"my fiance had this phone previously but caused many problems.\"),\n",
              "  Sentence(\"so of course we decided to browse amazon for a replacement til our contract is up.\"),\n",
              "  Sentence(\"so far so good.\"),\n",
              "  Sentence(\"this is a great product it came after two days of ordering it.\"),\n",
              "  Sentence(\"there was only one little blemish on the side but who cares as long as the phone is fullly functionali recommend this product to anyone reading this.\"),\n",
              "  Sentence(\"these guys are the best.\"),\n",
              "  Sentence(\"i had a little situation with my item but they quickly fixed the issue.\"),\n",
              "  Sentence(\"i was pleased and will definitely be buying another phon from them if i need one.\"),\n",
              "  Sentence(\"i m really disappointed about my phone and service.\"),\n",
              "  Sentence(\"instead of handling it when issue first surfaced.\"),\n",
              "  Sentence(\"i ve been told to do this and do that.\"),\n",
              "  Sentence(\"now i m stick with no phone and i m out 55 dollars for service that i m not using.\"),\n",
              "  Sentence(\"i still have nt received a mailing label to return item.\"),\n",
              "  Sentence(\"this was my first purchase on amazon.\"),\n",
              "  Sentence(\"i m not rushing to use theirs or smartphones 288 business anytime soon.\"),\n",
              "  Sentence(\"i thought i was getting a deal but it seems like i m the one who lucked out.\"),\n",
              "  Sentence(\"ordered this phone as a replacement for the same model until my contract expires and i can get a new one.\"),\n",
              "  Sentence(\"seller confirmation said delivery could take up to 7 days.\"),\n",
              "  Sentence(\"seller sent out the phone within hours of receiving the order and i had the phone the next day.\"),\n",
              "  Sentence(\"phone looks better than described was able to transfer data from the old one to the new one with no problems.\"),\n",
              "  Sentence(\"highly recommend this seller.\"),\n",
              "  Sentence(\"had this phone before and loved it but was not working so i got this phone.\"),\n",
              "  Sentence(\"one thing is the sd card slot does not open up when i try to access it in file managment even does not show up on the computer.\"),\n",
              "  Sentence(\"the card is fine was able to open on another phone.\"),\n",
              "  Sentence(\"trying to trouble shoot it for now.\"),\n",
              "  Sentence(\"i was able to get the phone i previously owned with a keyboard and touch screen.\"),\n",
              "  Sentence(\"it s the best phone and i love it.\"),\n",
              "  Sentence(\"i still had to clean the device with my service provider but it was well worth it.\"),\n",
              "  Sentence(\"i brought this phone as a replacement for my daughter who is very hard on cell phones.\"),\n",
              "  Sentence(\"i must say it was a great purchase.\"),\n",
              "  Sentence(\"it does everything i need and works great.\"),\n",
              "  Sentence(\"i purchased four of these phones through a seller that shipped from amazon s warehouse.\"),\n",
              "  Sentence(\"my only problem is that the phone did nt come with a micro sd card.\"),\n",
              "  Sentence(\"i could nt use the camera until i got the card.\"),\n",
              "  Sentence(\"no problems getting these activated at sprint.\"),\n",
              "  Sentence(\"unfortunately sprint could not activate the phone due to the blocking issue with the phone the matter was handled very well and quickly.\"),\n",
              "  Sentence(\"very satisfied with the service.\"),\n",
              "  Sentence(\"the battery was old had been over used because it barely holds a charge.\"),\n",
              "  Sentence(\"otherwise no issues with the phone itself.\"),\n",
              "  Sentence(\"prosbeautiful screen capable of running chrome take good pictures the keyboard is comfy fits in my pocket and fit my hands plays really good videos and gamesconsno bluetooth came late run down fast really quick doesnt play 1080p videosbut i would still recommend it to those who like to talk and text a lot like me and watch a lot of movies.\"),\n",
              "  Sentence(\"i purchased this phone in december as a christmas present to my son.\"),\n",
              "  Sentence(\"i called sprint to activate the phone only to find out the esn was nt clear.\"),\n",
              "  Sentence(\"i was told to come into the store and upon research the phone was nt clear.\"),\n",
              "  Sentence(\"i reached out to this company to inform them that this esn was nt clean.\"),\n",
              "  Sentence(\"i was told to send the phone back and they would send out another phone.\"),\n",
              "  Sentence(\"i asked the representative to provide me with the esn so that i could call and make sure it was clear.\"),\n",
              "  Sentence(\"i was told that they did nt have to phone available and was guaranteed it would be clear.\"),\n",
              "  Sentence(\"i should ve known something was wrong then.\"),\n",
              "  Sentence(\"i received a second phone that turned out not have a clear esn.\"),\n",
              "  Sentence(\"the representative at sprint informed me that the seller of these phones are aware the the esn is nt clear.\"),\n",
              "  Sentence(\"so once again i had to send another phone back.\"),\n",
              "  Sentence(\"i asked for a refund for the phone and shipping since the sent me two phones that did nt have a clear esn.\"),\n",
              "  Sentence(\"i received my refund for the phone but have yet to see a refund for the shipping.\"),\n",
              "  Sentence(\"i would nt suggest you buy anything from them.\"),\n",
              "  Sentence(\"phone good just a little slow phone old but it s a great phone temporary right now.\"),\n",
              "  Sentence(\"phone s speaker little low.\"),\n",
              "  Sentence(\"i would purchase another cell phone from chubbietech.\"),\n",
              "  Sentence(\"i am satisfied.\"),\n",
              "  Sentence(\"the phone was great and in good condition.\"),\n",
              "  Sentence(\"my daughter is so happy the be a andriod user now.\"),\n",
              "  Sentence(\"the reasons for the 3 star rating was it was in my opinion better than my iphone 4s but it tends to randomly crash and randomly power off but it is good for storage space battery usage and camera.\"),\n",
              "  Sentence(\"phone works great.\"),\n",
              "  Sentence(\"no problems at all.\"),\n",
              "  Sentence(\"was not in good condition but does work good.\"),\n",
              "  Sentence(\"just not good.\"),\n",
              "  Sentence(\"the phone has great screen resolution storage is low you need an sd card to do anything.\"),\n",
              "  Sentence(\"may have a clear esn but do nt expect to use it with things like freedompop.\"),\n",
              "  Sentence(\"as described fast ship.\"),\n",
              "  Sentence(\"one of the phones have a bad charger port.\"),\n",
              "  Sentence(\"i want to send it back.\"),\n",
              "  Sentence(\"just got this phone and it is a great phone.\"),\n",
              "  Sentence(\"it s easy to use.\"),\n",
              "  Sentence(\"the phone was great but it had gotten old so it was time for a replacementit was great while it lasted.\"),\n",
              "  Sentence(\"this phone came in great condition.\"),\n",
              "  Sentence(\"great price and it brings back great memories of owning this phone.\"),\n",
              "  Sentence(\"met all of my expectations.\"),\n",
              "  Sentence(\"phone is working on i was planning to use it for whatsapp anyway.\"),\n",
              "  Sentence(\"i like these phone i bought it for my mom and she loves it.\"),\n",
              "  Sentence(\"i love the phone but one problem and one problem only once the mic goes that s it.\"),\n",
              "  Sentence(\"very practical and userfriendly phone.\"),\n",
              "  Sentence(\"i am very satisfied with it.\"),\n",
              "  Sentence(\"sharp and classy phone.\")],\n",
              " 'arabian keyboard': [Sentence(\"i originally was using the samsung s2 galaxy for sprint and wanted to return back to the samsung epic 4g for sprint because i really missed the keyboard i really liked the smaller compact size of the phone and i still needed some of the basic functions of a smart phone ie.\"),\n",
              "  Sentence(\"i was able to get the phone i previously owned with a keyboard and touch screen.\"),\n",
              "  Sentence(\"prosbeautiful screen capable of running chrome take good pictures the keyboard is comfy fits in my pocket and fit my hands plays really good videos and gamesconsno bluetooth came late run down fast really quick doesnt play 1080p videosbut i would still recommend it to those who like to talk and text a lot like me and watch a lot of movies.\"),\n",
              "  Sentence(\"it came with arabian keyboard.\")],\n",
              " 'bad charger port': [Sentence(\"the charging port was loose.\"),\n",
              "  Sentence(\"one of the phones have a bad charger port.\")],\n",
              " 'basic functions': [Sentence(\"i originally was using the samsung s2 galaxy for sprint and wanted to return back to the samsung epic 4g for sprint because i really missed the keyboard i really liked the smaller compact size of the phone and i still needed some of the basic functions of a smart phone ie.\")],\n",
              " 'browse amazon': [Sentence(\"so of course we decided to browse amazon for a replacement til our contract is up.\"),\n",
              "  Sentence(\"this was my first purchase on amazon.\"),\n",
              "  Sentence(\"i purchased four of these phones through a seller that shipped from amazon s warehouse.\")],\n",
              " 'clean set': [Sentence(\"very clean set up and easy set up.\"),\n",
              "  Sentence(\"the only thing is the volume up button does not work but i can still go into settings to adjust.\"),\n",
              "  Sentence(\"i still had to clean the device with my service provider but it was well worth it.\"),\n",
              "  Sentence(\"i reached out to this company to inform them that this esn was nt clean.\")],\n",
              " 'compact size': [Sentence(\"perfect size for surfing and social media.\"),\n",
              "  Sentence(\"i originally was using the samsung s2 galaxy for sprint and wanted to return back to the samsung epic 4g for sprint because i really missed the keyboard i really liked the smaller compact size of the phone and i still needed some of the basic functions of a smart phone ie.\")],\n",
              " 'directions text': [Sentence(\"checking email getting directions text messaging because the phone is not as powerful as the newer cell phones out there just be aware that the more applications you install the slower the phone runs and will most likely freeze up from time to time.\"),\n",
              "  Sentence(\"prosbeautiful screen capable of running chrome take good pictures the keyboard is comfy fits in my pocket and fit my hands plays really good videos and gamesconsno bluetooth came late run down fast really quick doesnt play 1080p videosbut i would still recommend it to those who like to talk and text a lot like me and watch a lot of movies.\")],\n",
              " 'easy set': [Sentence(\"very clean set up and easy set up.\"),\n",
              "  Sentence(\"the only thing is the volume up button does not work but i can still go into settings to adjust.\"),\n",
              "  Sentence(\"it s easy to use.\")],\n",
              " 'fast ship': [Sentence(\"i purchased four of these phones through a seller that shipped from amazon s warehouse.\"),\n",
              "  Sentence(\"prosbeautiful screen capable of running chrome take good pictures the keyboard is comfy fits in my pocket and fit my hands plays really good videos and gamesconsno bluetooth came late run down fast really quick doesnt play 1080p videosbut i would still recommend it to those who like to talk and text a lot like me and watch a lot of movies.\"),\n",
              "  Sentence(\"i asked for a refund for the phone and shipping since the sent me two phones that did nt have a clear esn.\"),\n",
              "  Sentence(\"i received my refund for the phone but have yet to see a refund for the shipping.\"),\n",
              "  Sentence(\"as described fast ship.\")],\n",
              " 'great screen resolution storage': [Sentence(\"great phone samsung.\"),\n",
              "  Sentence(\"great phone to replace my lost phone.\"),\n",
              "  Sentence(\"but the camera works great the video is great as well and even the web browsing is decent and gives me what i need.\"),\n",
              "  Sentence(\"it s battery life is great.\"),\n",
              "  Sentence(\"the only issue is that sometimes the screen goes black and you have to press the top button several times to get the screen to reilluminate.\"),\n",
              "  Sentence(\"this is a great product it came after two days of ordering it.\"),\n",
              "  Sentence(\"i was able to get the phone i previously owned with a keyboard and touch screen.\"),\n",
              "  Sentence(\"i must say it was a great purchase.\"),\n",
              "  Sentence(\"it does everything i need and works great.\"),\n",
              "  Sentence(\"prosbeautiful screen capable of running chrome take good pictures the keyboard is comfy fits in my pocket and fit my hands plays really good videos and gamesconsno bluetooth came late run down fast really quick doesnt play 1080p videosbut i would still recommend it to those who like to talk and text a lot like me and watch a lot of movies.\"),\n",
              "  Sentence(\"phone good just a little slow phone old but it s a great phone temporary right now.\"),\n",
              "  Sentence(\"thank you for the great deal.\"),\n",
              "  Sentence(\"the phone was great and in good condition.\"),\n",
              "  Sentence(\"the reasons for the 3 star rating was it was in my opinion better than my iphone 4s but it tends to randomly crash and randomly power off but it is good for storage space battery usage and camera.\"),\n",
              "  Sentence(\"phone works great.\"),\n",
              "  Sentence(\"the phone has great screen resolution storage is low you need an sd card to do anything.\"),\n",
              "  Sentence(\"just got this phone and it is a great phone.\"),\n",
              "  Sentence(\"the phone was great but it had gotten old so it was time for a replacementit was great while it lasted.\"),\n",
              "  Sentence(\"this phone came in great condition.\"),\n",
              "  Sentence(\"great price and it brings back great memories of owning this phone.\"),\n",
              "  Sentence(\"great price.\")],\n",
              " 'hands plays': [Sentence(\"prosbeautiful screen capable of running chrome take good pictures the keyboard is comfy fits in my pocket and fit my hands plays really good videos and gamesconsno bluetooth came late run down fast really quick doesnt play 1080p videosbut i would still recommend it to those who like to talk and text a lot like me and watch a lot of movies.\")],\n",
              " 'late run': [Sentence(\"100 later not including cost of purchase i have a usable phone.\"),\n",
              "  Sentence(\"checking email getting directions text messaging because the phone is not as powerful as the newer cell phones out there just be aware that the more applications you install the slower the phone runs and will most likely freeze up from time to time.\"),\n",
              "  Sentence(\"prosbeautiful screen capable of running chrome take good pictures the keyboard is comfy fits in my pocket and fit my hands plays really good videos and gamesconsno bluetooth came late run down fast really quick doesnt play 1080p videosbut i would still recommend it to those who like to talk and text a lot like me and watch a lot of movies.\")],\n",
              " 'micro sd card': [Sentence(\"one thing is the sd card slot does not open up when i try to access it in file managment even does not show up on the computer.\"),\n",
              "  Sentence(\"the card is fine was able to open on another phone.\"),\n",
              "  Sentence(\"my only problem is that the phone did nt come with a micro sd card.\"),\n",
              "  Sentence(\"i could nt use the camera until i got the card.\"),\n",
              "  Sentence(\"the phone has great screen resolution storage is low you need an sd card to do anything.\")],\n",
              " 'perfect condition': [Sentence(\"perfect size for surfing and social media.\"),\n",
              "  Sentence(\"the phone was great and in good condition.\"),\n",
              "  Sentence(\"was not in good condition but does work good.\"),\n",
              "  Sentence(\"perfect in every way.\"),\n",
              "  Sentence(\"this phone came in great condition.\"),\n",
              "  Sentence(\"excellent product in perfect condition.\")],\n",
              " 'sd card slot': [Sentence(\"one thing is the sd card slot does not open up when i try to access it in file managment even does not show up on the computer.\"),\n",
              "  Sentence(\"the card is fine was able to open on another phone.\"),\n",
              "  Sentence(\"my only problem is that the phone did nt come with a micro sd card.\"),\n",
              "  Sentence(\"i could nt use the camera until i got the card.\"),\n",
              "  Sentence(\"the phone has great screen resolution storage is low you need an sd card to do anything.\")],\n",
              " 'seller confirmation': [Sentence(\"thank you seller we really appreciate it your honesty re said used phonei recommend this seller very highly would but from them again.\"),\n",
              "  Sentence(\"seller confirmation said delivery could take up to 7 days.\"),\n",
              "  Sentence(\"seller sent out the phone within hours of receiving the order and i had the phone the next day.\"),\n",
              "  Sentence(\"highly recommend this seller.\"),\n",
              "  Sentence(\"i purchased four of these phones through a seller that shipped from amazon s warehouse.\"),\n",
              "  Sentence(\"the representative at sprint informed me that the seller of these phones are aware the the esn is nt clear.\")],\n",
              " 'service provider': [Sentence(\"i m really disappointed about my phone and service.\"),\n",
              "  Sentence(\"now i m stick with no phone and i m out 55 dollars for service that i m not using.\"),\n",
              "  Sentence(\"i still had to clean the device with my service provider but it was well worth it.\"),\n",
              "  Sentence(\"very satisfied with the service.\")],\n",
              " 'social media': [Sentence(\"perfect size for surfing and social media.\")],\n",
              " 'temporary right': [Sentence(\"phone good just a little slow phone old but it s a great phone temporary right now.\")],\n",
              " 'top button': [Sentence(\"the only thing is the volume up button does not work but i can still go into settings to adjust.\"),\n",
              "  Sentence(\"the only issue is that sometimes the screen goes black and you have to press the top button several times to get the screen to reilluminate.\")],\n",
              " 'trouble shoot': [Sentence(\"trying to trouble shoot it for now.\")],\n",
              " 'unhappy customer': [Sentence(\"i wish i would have read these comments then i would have not purchased this item and its cracked on the side damaged goods is what it is if trying to charge it another way does not work i am requesting for my money back and i will get my money back signed an unhappy customer.\")]}"
            ]
          },
          "metadata": {
            "tags": []
          },
          "execution_count": 45
        }
      ]
    },
    {
      "cell_type": "code",
      "metadata": {
        "colab": {
          "base_uri": "https://localhost:8080/",
          "height": 490
        },
        "id": "05c4cMb2qb79",
        "outputId": "ceac010c-0137-4e95-f56e-843ac96c5a62"
      },
      "source": [
        "scores = list()\n",
        "absa_scores = dict()\n",
        "for k, v in absa_list.items():\n",
        "    absa_scores[k] = list()\n",
        "    for sent in v:\n",
        "        score = sent.sentiment.polarity\n",
        "        scores.append(score)\n",
        "        absa_scores[k].append(score)\n",
        "fig, (ax1, ax2) = plt.subplots(ncols=2, sharey=True, figsize=(20, 10))\n",
        "plot1 = sns.distplot(scores, ax=ax1)\n",
        "\n"
      ],
      "execution_count": null,
      "outputs": [
        {
          "output_type": "stream",
          "text": [
            "/usr/local/lib/python3.7/dist-packages/seaborn/distributions.py:2557: FutureWarning: `distplot` is a deprecated function and will be removed in a future version. Please adapt your code to use either `displot` (a figure-level function with similar flexibility) or `histplot` (an axes-level function for histograms).\n",
            "  warnings.warn(msg, FutureWarning)\n"
          ],
          "name": "stderr"
        },
        {
          "output_type": "display_data",
          "data": {
            "image/png": "[encoded data removed]",
            "text/plain": [
              "<Figure size 1440x720 with 2 Axes>"
            ]
          },
          "metadata": {
            "tags": [],
            "needs_background": "light"
          }
        }
      ]
    },
    {
      "cell_type": "code",
      "metadata": {
        "colab": {
          "base_uri": "https://localhost:8080/",
          "height": 401
        },
        "id": "hgpPHbjTqz0g",
        "outputId": "50413cdb-c2a0-4ca1-d77a-96c46e806a3f"
      },
      "source": [
        "vals = dict()\n",
        "vals[\"aspects\"] = list()\n",
        "vals[\"scores\"] = list()\n",
        "for k, v in absa_scores.items():\n",
        "    for score in v:\n",
        "        vals[\"aspects\"].append(k)\n",
        "        vals[\"scores\"].append(score)\n",
        "\n",
        "\n",
        "fig, ax1 = plt.subplots(figsize=(30, 10))\n",
        "\n",
        "color = sns.color_palette(\"Blues\", 6)\n",
        "plt.xticks(rotation=90)\n",
        "sns.set_context(\"paper\", font_scale=3) \n",
        "sns.boxplot(x=\"aspects\", y=\"scores\", data=vals, palette=color, ax=ax1)"
      ],
      "execution_count": null,
      "outputs": [
        {
          "output_type": "execute_result",
          "data": {
            "text/plain": [
              "<matplotlib.axes._subplots.AxesSubplot at 0x7fab6d32b350>"
            ]
          },
          "metadata": {
            "tags": []
          },
          "execution_count": 48
        },
        {
          "output_type": "display_data",
          "data": {
            "image/png": "[encoded data removed]",
            "text/plain": [
              "<Figure size 2160x720 with 1 Axes>"
            ]
          },
          "metadata": {
            "tags": [],
            "needs_background": "light"
          }
        }
      ]
    },
    {
      "cell_type": "code",
      "metadata": {
        "colab": {
          "base_uri": "https://localhost:8080/",
          "height": 297
        },
        "id": "jZtgevg0q-Mi",
        "outputId": "8a65fcf9-6608-41b5-ccc9-72ab4a67bbc2"
      },
      "source": [
        "color = sns.color_palette(\"Reds\", 10)\n",
        "fig, ax1 = plt.subplots(figsize=(30, 10))\n",
        "plt.xticks(rotation=90)\n",
        "sns.set_context(\"paper\", font_scale=5) \n",
        "sns.stripplot(y=\"aspects\", x=\"scores\",data=vals, palette=color)"
      ],
      "execution_count": null,
      "outputs": [
        {
          "output_type": "execute_result",
          "data": {
            "text/plain": [
              "<matplotlib.axes._subplots.AxesSubplot at 0x7fab6d2f4f90>"
            ]
          },
          "metadata": {
            "tags": []
          },
          "execution_count": 49
        },
        {
          "output_type": "display_data",
          "data": {
            "image/png": "[encoded data removed]",
            "text/plain": [
              "<Figure size 2160x720 with 1 Axes>"
            ]
          },
          "metadata": {
            "tags": [],
            "needs_background": "light"
          }
        }
      ]
    }
  ]
}